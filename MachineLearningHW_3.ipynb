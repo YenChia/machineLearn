{
 "cells": [
  {
   "cell_type": "code",
   "execution_count": 23,
   "metadata": {},
   "outputs": [],
   "source": [
    "import pandas as pd\n",
    "import numpy as np\n",
    "import matplotlib.pyplot as plt\n",
    "%matplotlib inline\n",
    "import seaborn as sns\n",
    "sns.set()\n",
    "import re\n",
    "\n",
    "from sklearn import tree\n",
    "from sklearn.linear_model import LogisticRegression\n",
    "from sklearn.metrics import classification_report"
   ]
  },
  {
   "cell_type": "code",
   "execution_count": 38,
   "metadata": {},
   "outputs": [],
   "source": [
    "from sklearn.metrics import classification_report\n",
    "from sklearn import tree\n",
    "from sklearn.ensemble.forest import RandomForestClassifier\n",
    "from sklearn.model_selection import KFold, cross_val_score, train_test_split\n",
    "from sklearn.preprocessing import StandardScaler\n",
    "from sklearn.preprocessing import LabelEncoder\n",
    "from sklearn.model_selection import GridSearchCV"
   ]
  },
  {
   "cell_type": "code",
   "execution_count": 2,
   "metadata": {
    "scrolled": true
   },
   "outputs": [
    {
     "data": {
      "text/html": [
       "<div>\n",
       "<style scoped>\n",
       "    .dataframe tbody tr th:only-of-type {\n",
       "        vertical-align: middle;\n",
       "    }\n",
       "\n",
       "    .dataframe tbody tr th {\n",
       "        vertical-align: top;\n",
       "    }\n",
       "\n",
       "    .dataframe thead th {\n",
       "        text-align: right;\n",
       "    }\n",
       "</style>\n",
       "<table border=\"1\" class=\"dataframe\">\n",
       "  <thead>\n",
       "    <tr style=\"text-align: right;\">\n",
       "      <th></th>\n",
       "      <th>Id</th>\n",
       "      <th>MSSubClass</th>\n",
       "      <th>MSZoning</th>\n",
       "      <th>LotFrontage</th>\n",
       "      <th>LotArea</th>\n",
       "      <th>Street</th>\n",
       "      <th>Alley</th>\n",
       "      <th>LotShape</th>\n",
       "      <th>LandContour</th>\n",
       "      <th>Utilities</th>\n",
       "      <th>...</th>\n",
       "      <th>PoolArea</th>\n",
       "      <th>PoolQC</th>\n",
       "      <th>Fence</th>\n",
       "      <th>MiscFeature</th>\n",
       "      <th>MiscVal</th>\n",
       "      <th>MoSold</th>\n",
       "      <th>YrSold</th>\n",
       "      <th>SaleType</th>\n",
       "      <th>SaleCondition</th>\n",
       "      <th>SalePrice</th>\n",
       "    </tr>\n",
       "  </thead>\n",
       "  <tbody>\n",
       "    <tr>\n",
       "      <th>0</th>\n",
       "      <td>1</td>\n",
       "      <td>60</td>\n",
       "      <td>RL</td>\n",
       "      <td>65.0</td>\n",
       "      <td>8450</td>\n",
       "      <td>Pave</td>\n",
       "      <td>NaN</td>\n",
       "      <td>Reg</td>\n",
       "      <td>Lvl</td>\n",
       "      <td>AllPub</td>\n",
       "      <td>...</td>\n",
       "      <td>0</td>\n",
       "      <td>NaN</td>\n",
       "      <td>NaN</td>\n",
       "      <td>NaN</td>\n",
       "      <td>0</td>\n",
       "      <td>2</td>\n",
       "      <td>2008</td>\n",
       "      <td>WD</td>\n",
       "      <td>Normal</td>\n",
       "      <td>208500</td>\n",
       "    </tr>\n",
       "    <tr>\n",
       "      <th>1</th>\n",
       "      <td>2</td>\n",
       "      <td>20</td>\n",
       "      <td>RL</td>\n",
       "      <td>80.0</td>\n",
       "      <td>9600</td>\n",
       "      <td>Pave</td>\n",
       "      <td>NaN</td>\n",
       "      <td>Reg</td>\n",
       "      <td>Lvl</td>\n",
       "      <td>AllPub</td>\n",
       "      <td>...</td>\n",
       "      <td>0</td>\n",
       "      <td>NaN</td>\n",
       "      <td>NaN</td>\n",
       "      <td>NaN</td>\n",
       "      <td>0</td>\n",
       "      <td>5</td>\n",
       "      <td>2007</td>\n",
       "      <td>WD</td>\n",
       "      <td>Normal</td>\n",
       "      <td>181500</td>\n",
       "    </tr>\n",
       "    <tr>\n",
       "      <th>2</th>\n",
       "      <td>3</td>\n",
       "      <td>60</td>\n",
       "      <td>RL</td>\n",
       "      <td>68.0</td>\n",
       "      <td>11250</td>\n",
       "      <td>Pave</td>\n",
       "      <td>NaN</td>\n",
       "      <td>IR1</td>\n",
       "      <td>Lvl</td>\n",
       "      <td>AllPub</td>\n",
       "      <td>...</td>\n",
       "      <td>0</td>\n",
       "      <td>NaN</td>\n",
       "      <td>NaN</td>\n",
       "      <td>NaN</td>\n",
       "      <td>0</td>\n",
       "      <td>9</td>\n",
       "      <td>2008</td>\n",
       "      <td>WD</td>\n",
       "      <td>Normal</td>\n",
       "      <td>223500</td>\n",
       "    </tr>\n",
       "    <tr>\n",
       "      <th>3</th>\n",
       "      <td>4</td>\n",
       "      <td>70</td>\n",
       "      <td>RL</td>\n",
       "      <td>60.0</td>\n",
       "      <td>9550</td>\n",
       "      <td>Pave</td>\n",
       "      <td>NaN</td>\n",
       "      <td>IR1</td>\n",
       "      <td>Lvl</td>\n",
       "      <td>AllPub</td>\n",
       "      <td>...</td>\n",
       "      <td>0</td>\n",
       "      <td>NaN</td>\n",
       "      <td>NaN</td>\n",
       "      <td>NaN</td>\n",
       "      <td>0</td>\n",
       "      <td>2</td>\n",
       "      <td>2006</td>\n",
       "      <td>WD</td>\n",
       "      <td>Abnorml</td>\n",
       "      <td>140000</td>\n",
       "    </tr>\n",
       "    <tr>\n",
       "      <th>4</th>\n",
       "      <td>5</td>\n",
       "      <td>60</td>\n",
       "      <td>RL</td>\n",
       "      <td>84.0</td>\n",
       "      <td>14260</td>\n",
       "      <td>Pave</td>\n",
       "      <td>NaN</td>\n",
       "      <td>IR1</td>\n",
       "      <td>Lvl</td>\n",
       "      <td>AllPub</td>\n",
       "      <td>...</td>\n",
       "      <td>0</td>\n",
       "      <td>NaN</td>\n",
       "      <td>NaN</td>\n",
       "      <td>NaN</td>\n",
       "      <td>0</td>\n",
       "      <td>12</td>\n",
       "      <td>2008</td>\n",
       "      <td>WD</td>\n",
       "      <td>Normal</td>\n",
       "      <td>250000</td>\n",
       "    </tr>\n",
       "  </tbody>\n",
       "</table>\n",
       "<p>5 rows × 81 columns</p>\n",
       "</div>"
      ],
      "text/plain": [
       "   Id  MSSubClass MSZoning  LotFrontage  LotArea Street Alley LotShape  \\\n",
       "0   1          60       RL         65.0     8450   Pave   NaN      Reg   \n",
       "1   2          20       RL         80.0     9600   Pave   NaN      Reg   \n",
       "2   3          60       RL         68.0    11250   Pave   NaN      IR1   \n",
       "3   4          70       RL         60.0     9550   Pave   NaN      IR1   \n",
       "4   5          60       RL         84.0    14260   Pave   NaN      IR1   \n",
       "\n",
       "  LandContour Utilities    ...     PoolArea PoolQC Fence MiscFeature MiscVal  \\\n",
       "0         Lvl    AllPub    ...            0    NaN   NaN         NaN       0   \n",
       "1         Lvl    AllPub    ...            0    NaN   NaN         NaN       0   \n",
       "2         Lvl    AllPub    ...            0    NaN   NaN         NaN       0   \n",
       "3         Lvl    AllPub    ...            0    NaN   NaN         NaN       0   \n",
       "4         Lvl    AllPub    ...            0    NaN   NaN         NaN       0   \n",
       "\n",
       "  MoSold YrSold  SaleType  SaleCondition  SalePrice  \n",
       "0      2   2008        WD         Normal     208500  \n",
       "1      5   2007        WD         Normal     181500  \n",
       "2      9   2008        WD         Normal     223500  \n",
       "3      2   2006        WD        Abnorml     140000  \n",
       "4     12   2008        WD         Normal     250000  \n",
       "\n",
       "[5 rows x 81 columns]"
      ]
     },
     "execution_count": 2,
     "metadata": {},
     "output_type": "execute_result"
    }
   ],
   "source": [
    "# 載入數據至Pandas資料表 DataFrame\n",
    "\n",
    "dfTrain = pd.DataFrame(pd.read_csv(\"/share/all/train.csv\"))\n",
    "dfTest = pd.DataFrame(pd.read_csv(\"/share/all/test.csv\"))\n",
    "\n",
    "dfTrain.head(5) # 看資料表前五行"
   ]
  },
  {
   "cell_type": "markdown",
   "metadata": {},
   "source": [
    "# 觀察資料"
   ]
  },
  {
   "cell_type": "code",
   "execution_count": 3,
   "metadata": {},
   "outputs": [],
   "source": [
    "## 將資料內容轉存至共同變數\n",
    "df = dfTrain.iloc[:, :-1]\n",
    "df = df.append(dfTest)\n",
    "target = dfTrain['SalePrice']"
   ]
  },
  {
   "cell_type": "code",
   "execution_count": null,
   "metadata": {},
   "outputs": [],
   "source": [
    "# 觀察欄位名 屬性 非空值筆數\n",
    "df.info()"
   ]
  },
  {
   "cell_type": "code",
   "execution_count": null,
   "metadata": {},
   "outputs": [],
   "source": [
    "#(資料筆數,欄位數)\n",
    "df.shape"
   ]
  },
  {
   "cell_type": "code",
   "execution_count": null,
   "metadata": {
    "scrolled": false
   },
   "outputs": [],
   "source": [
    "# 觀察欄位不重複值\n",
    "df.apply(lambda x:x.unique().shape[0],axis=0)"
   ]
  },
  {
   "cell_type": "code",
   "execution_count": null,
   "metadata": {
    "scrolled": true
   },
   "outputs": [],
   "source": [
    "plt.figure(figsize=(12,12),dpi=200)  # 調整圖片尺寸\n",
    "(df.apply(lambda x:x.unique().shape[0],axis=0)/df.shape[0]).plot(kind='bar');"
   ]
  },
  {
   "cell_type": "code",
   "execution_count": null,
   "metadata": {
    "scrolled": true
   },
   "outputs": [],
   "source": [
    "# 空值數量\n",
    "df.isnull().sum()"
   ]
  },
  {
   "cell_type": "code",
   "execution_count": null,
   "metadata": {},
   "outputs": [],
   "source": [
    "# 空值欄位\n",
    "df.loc[:,pd.Series(df.isnull().any())]"
   ]
  },
  {
   "cell_type": "raw",
   "metadata": {},
   "source": [
    "#MSZoning:Identifies the general zoning classification of the sale.      房屋地區分種類/缺值4個(補眾值)\n",
    "#LotFrontage:Linear feet of street connected to property                 街道連到屋子的距離/缺值486個\n",
    "#Alley:Type of alley access to property                                           連接小巷的路況/缺值2721個(NA是沒巷子)\n",
    "#Utilities: Type of utilities available                                                  房屋可用電力、瓦斯、水/缺值2個(補眾值)\n",
    "#Exterior1st: Exterior covering on house                                           房屋外牆/缺值1個(補眾值)\n",
    "#Exterior2nd: Exterior covering on house (if more than one material)    房屋外牆/缺值1個(補眾值)\n",
    "#MasVnrType:Masonry veneer type                                                  牆面類型/類別型/缺值獨立類別/缺值24個(補眾值)\n",
    "#MasVnrArea:Masonry veneer area in square feet                              牆面積/缺值24個(補眾值)\n",
    "BsmtQual:Evaluates the height of the basement                             地下室高度/缺值37個(NA是沒地下室)\n",
    "BsmtCond:Evaluates the general condition of the basement            地下室狀況/缺值37個(NA是沒地下室)\n",
    "BsmtExposure:Refers to walkout or garden level walls                    花園牆高/缺值38個(NA是沒花園)\n",
    "BsmtFinType1:Rating of basement finished area                             地下室可住性？/缺值37個(NA是沒地下室)\n",
    "BsmtFinSF1: Type 1 finished square feet                                          地下室面積/缺值259個(缺值太少 直接補0)\n",
    "BsmtFinType2:Rating of basement finished area (if multiple types)   地下室可住性(多類型)/缺值38個(NA是沒地下室,還有一個不知道)\n",
    "BsmtFinSF2: Type 2 finished square feet                                         地下室面積/缺值259個(缺值太少 直接補0)\n",
    "BsmtUnfSF: Unfinished square feet of basement area                       地下室面積/缺值259個(缺值太少 直接補0)\n",
    "TotalBsmtSF: Total square feet of basement area                            地下室總面積/缺值259個(缺值太少 直接補0)\n",
    "Electrical:Electrical system                                                            電力系統/缺值1個(用演算法補)\n",
    "BsmtFullBath: Basement full bathrooms                                          地下室設備齊全的浴室/缺值259個(NA就是沒)\n",
    "BsmtHalfBath: Basement half bathrooms                                        地下室淋浴設備/缺值259個(NA就是沒)\n",
    "#KitchenQual: Kitchen quality                                                          廚房等級/缺值1個(NA就是沒)\n",
    "#Functional: Home functionality                                                      家庭功能/缺值2個(NA就是沒)\n",
    "#FireplaceQu:Fireplace quality                                                      壁爐型式/缺值1420個(NA沒壁爐)\n",
    "#GarageType:Garage location                                                      車庫位置/缺值157個(NA就是沒車庫 請補0)\n",
    "#GarageYrBlt:Year garage was built                                              車庫建成年分/缺值159個(NA就是沒車庫 請補0)\n",
    "#GarageFinish:Interior finish of the garage                                     車庫環境/缺值159個(NA就是沒車庫 都說沒車庫了，填個毛呀！補0！)\n",
    "#GarageCars: Size of garage in car capacity                                    車庫可容納車輛數/缺值1個(NA就是 補0)\n",
    "#GarageArea: Size of garage in square feet                                     車庫平方英尺/缺值1個(NA就是沒 補0)\n",
    "#GarageQual:Garage quality                                                        車庫品質/缺值159個(NA就是沒...懶得說了)\n",
    "#GarageCond:Garage condition                                                   車庫狀況/缺值159個(NA就...)\n",
    "#PoolQC:Pool:quality                                                                    泳池質量/缺值2909個(NA就是沒)\n",
    "#Fence:Fence:quality                                                                     圍欄質量/缺值2348個(NA就是沒)\n",
    "#MiscFeature:Miscellaneous feature not covered in other categories   雜項功能/缺值2814個(NA就是沒)\n",
    "#SaleType: Type of sale                                                                銷售方式/缺值1個(補眾值)"
   ]
  },
  {
   "cell_type": "markdown",
   "metadata": {},
   "source": [
    "# 資料清理"
   ]
  },
  {
   "cell_type": "code",
   "execution_count": 4,
   "metadata": {},
   "outputs": [],
   "source": [
    "# 欄位補0或None\n",
    "c = [\"LotFrontage\",\"GarageYrBlt\",\"GarageCars\",\"BsmtFullBath\",\"BsmtUnfSF\",\"BsmtFinSF1\",\"GarageArea\",\n",
    "     \"TotalBsmtSF\",\"BsmtFinSF2\",\"BsmtHalfBath\"]\n",
    "\n",
    "df[c] = df[c].fillna(0)\n",
    "\n",
    "d = [\"Alley\",\"BsmtCond\",\"BsmtQual\",\"BsmtExposure\",\"BsmtFinType1\",\"BsmtFinType2\",\"FireplaceQu\",\n",
    "     \"GarageType\",\"GarageFinish\",\"GarageQual\",\"GarageCond\",\"KitchenQual\"]\n",
    "df[d] = df[d].fillna('None')"
   ]
  },
  {
   "cell_type": "code",
   "execution_count": 5,
   "metadata": {},
   "outputs": [],
   "source": [
    "# 特殊欄位補None 原意有值改1? 暫時不變原有資料測試\n",
    "c = [\"PoolQC\",\"Fence\"]\n",
    "df[c] = df[c].fillna('None')\n",
    "\n",
    "c = [\"MiscFeature\"]\n",
    "df[c] = df[c].fillna('None')"
   ]
  },
  {
   "cell_type": "code",
   "execution_count": 6,
   "metadata": {},
   "outputs": [],
   "source": [
    "# 用眾值填補空值\n",
    "c = [\"MasVnrType\",\"MasVnrArea\",\"Electrical\",\"MSZoning\",\"Utilities\",\"Exterior1st\",\"Exterior2nd\",\"SaleType\",\"Functional\"]\n",
    "\n",
    "for i in c:\n",
    "    df[i] = df[i].fillna(df[i].mode()[0])\n",
    "\n",
    "#df[\"SaleType\"].mode()[0] # 觀察眾值"
   ]
  },
  {
   "cell_type": "markdown",
   "metadata": {},
   "source": [
    "# 觀察資料相依性"
   ]
  },
  {
   "cell_type": "code",
   "execution_count": null,
   "metadata": {},
   "outputs": [],
   "source": [
    "plt.figure(figsize=(12,12),dpi=200)\n",
    "sns.heatmap( df.corr(),cmap=\"Blues\",   # color\n",
    "             vmin=-1,                              # lower limit\n",
    "             vmax=1,                               # upper liomit\n",
    "             square=True,                       # square \n",
    "             annot=None)                        # block of number\n",
    "plt.show()"
   ]
  },
  {
   "cell_type": "markdown",
   "metadata": {},
   "source": [
    "# 字串轉類別"
   ]
  },
  {
   "cell_type": "code",
   "execution_count": 7,
   "metadata": {},
   "outputs": [],
   "source": [
    "df[\"GarageYrBlt\"] = df[\"GarageYrBlt\"].astype(str)\n",
    "df[\"MSSubClass\"] = df[\"MSSubClass\"].astype(str)"
   ]
  },
  {
   "cell_type": "code",
   "execution_count": 8,
   "metadata": {},
   "outputs": [],
   "source": [
    "from sklearn.preprocessing import LabelEncoder\n",
    "c = [\"ExterQual\",\"ExterCond\",\"BsmtQual\",\"BsmtCond\",\"BsmtExposure\",\"BsmtFinType1\",\"BsmtFinType2\",\"HeatingQC\",\n",
    "\"CentralAir\",\"KitchenQual\",\"FireplaceQu\",\"GarageFinish\",\"GarageQual\",\"GarageCond\",\"PoolQC\",\"Fence\"]\n",
    "\n",
    "for item in c:\n",
    "    le = LabelEncoder()\n",
    "    le.fit(np.unique(df[item].values))\n",
    "    df[item] = le.transform(df[item])"
   ]
  },
  {
   "cell_type": "code",
   "execution_count": 9,
   "metadata": {},
   "outputs": [],
   "source": [
    "c=[\"MSZoning\",\"Street\",\"Alley\",\"LotShape\",\"LandContour\",\"Utilities\",\"LotConfig\",\"LandSlope\",\"Neighborhood\",\n",
    "\"Condition1\",\"Condition2\",\"BldgType\",\"HouseStyle\",\"RoofStyle\",\"RoofMatl\",\"Exterior1st\",\"Exterior2nd\",\"MasVnrType\",\n",
    "\"Foundation\",\"Heating\",\"Electrical\",\"Functional\",\"GarageType\",\"PavedDrive\",\"MiscFeature\",\"SaleType\",\"SaleCondition\"]\n",
    "\n",
    "a = pd.get_dummies(df[c])\n",
    "df[a.columns] = a\n",
    "df = df.drop(c, axis=1)"
   ]
  },
  {
   "cell_type": "code",
   "execution_count": 10,
   "metadata": {},
   "outputs": [],
   "source": [
    "#還原原始訓練、測試資料集\n",
    "dfTest = df.iloc[1460:,]\n",
    "df = df.iloc[:1460,]"
   ]
  },
  {
   "cell_type": "code",
   "execution_count": 11,
   "metadata": {},
   "outputs": [],
   "source": [
    "# 切割訓練 測試資料\n",
    "from sklearn.model_selection import train_test_split\n",
    "\n",
    "x = df.values  ## 原始資料\n",
    "y = target.values  ## 原始資料\n",
    "    \n",
    "train_x, test_x, train_y, test_y = train_test_split(x, y, test_size=0.2)"
   ]
  },
  {
   "cell_type": "code",
   "execution_count": 12,
   "metadata": {},
   "outputs": [],
   "source": [
    "assert train_x.shape[0] == train_y.shape[0],\"error, check my data!\""
   ]
  },
  {
   "cell_type": "code",
   "execution_count": null,
   "metadata": {},
   "outputs": [],
   "source": [
    "# 資料標準化\n",
    "#from sklearn.preprocessing import StandardScaler\n",
    "#scaler = StandardScaler()\n",
    "#scaler = scaler.fit(train_x)\n",
    "\n",
    "#train_x = scaler.transform(train_x)\n",
    "#test_x = scaler.transform(test_x)"
   ]
  },
  {
   "cell_type": "code",
   "execution_count": null,
   "metadata": {},
   "outputs": [],
   "source": [
    "# 觀察標準化結果\n",
    "#np.mean(train_x), np.std(train_x)  "
   ]
  },
  {
   "cell_type": "markdown",
   "metadata": {},
   "source": [
    "# Scikit-learn: Ridge Regression"
   ]
  },
  {
   "cell_type": "code",
   "execution_count": 13,
   "metadata": {},
   "outputs": [],
   "source": [
    "# 建模\n",
    "from sklearn.linear_model import Ridge\n",
    "\n",
    "regressor = Ridge(max_iter=1000000)\n",
    "model_Ridge = regressor.fit(train_x,train_y)"
   ]
  },
  {
   "cell_type": "code",
   "execution_count": 14,
   "metadata": {},
   "outputs": [
    {
     "data": {
      "text/plain": [
       "0.8063590541640399"
      ]
     },
     "execution_count": 14,
     "metadata": {},
     "output_type": "execute_result"
    }
   ],
   "source": [
    "# 預測\n",
    "from sklearn.metrics import r2_score\n",
    "pred_y = model_Ridge.predict(test_x)\n",
    "r2_score(test_y,pred_y)"
   ]
  },
  {
   "cell_type": "markdown",
   "metadata": {},
   "source": [
    "# Scikit-learn: Lasso Regression"
   ]
  },
  {
   "cell_type": "code",
   "execution_count": 15,
   "metadata": {},
   "outputs": [
    {
     "name": "stdout",
     "output_type": "stream",
     "text": [
      "CPU times: user 182 ms, sys: 6.77 ms, total: 188 ms\n",
      "Wall time: 273 ms\n"
     ]
    }
   ],
   "source": [
    "# 建模\n",
    "from sklearn.linear_model import Lasso\n",
    "\n",
    "regressor = Lasso(max_iter=1000000)\n",
    "%time model_Lasso = regressor.fit(train_x,train_y)"
   ]
  },
  {
   "cell_type": "code",
   "execution_count": 16,
   "metadata": {},
   "outputs": [
    {
     "data": {
      "text/plain": [
       "0.8655375762844588"
      ]
     },
     "execution_count": 16,
     "metadata": {},
     "output_type": "execute_result"
    }
   ],
   "source": [
    "# 預測\n",
    "#from sklearn.metrics import r2_score\n",
    "pred_y = model_Lasso.predict(test_x)\n",
    "r2_score(test_y,pred_y)"
   ]
  },
  {
   "cell_type": "markdown",
   "metadata": {},
   "source": [
    "# Scikit-learn: Elastic Net Regression"
   ]
  },
  {
   "cell_type": "code",
   "execution_count": 17,
   "metadata": {},
   "outputs": [
    {
     "name": "stdout",
     "output_type": "stream",
     "text": [
      "CPU times: user 1min 49s, sys: 44.5 ms, total: 1min 49s\n",
      "Wall time: 1min 54s\n"
     ]
    }
   ],
   "source": [
    "# 建模\n",
    "from sklearn.linear_model import ElasticNet\n",
    "regressor = ElasticNet(max_iter=1000000)\n",
    "%time model_ElasticNet = regressor.fit(train_x,train_y)"
   ]
  },
  {
   "cell_type": "code",
   "execution_count": 18,
   "metadata": {},
   "outputs": [
    {
     "data": {
      "text/plain": [
       "0.8306293576098429"
      ]
     },
     "execution_count": 18,
     "metadata": {},
     "output_type": "execute_result"
    }
   ],
   "source": [
    "# 預測\n",
    "#from sklearn.metrics import r2_score\n",
    "pred_y = model_ElasticNet.predict(test_x)\n",
    "r2_score(test_y,pred_y)"
   ]
  },
  {
   "cell_type": "markdown",
   "metadata": {},
   "source": [
    "# Scikit-learn: 樹演算法(資料不進行標準化)"
   ]
  },
  {
   "cell_type": "code",
   "execution_count": 70,
   "metadata": {},
   "outputs": [],
   "source": [
    "# 建模\n",
    "from sklearn.tree import DecisionTreeRegressor\n",
    "\n",
    "regressor = DecisionTreeRegressor(criterion='mse',   # 預設為'mse'  #'friedman_mse'  'mae'\n",
    "                                  splitter='best',                       # 預設為'best'  #random\n",
    "                                  max_depth=12,                     # 樹的深度\n",
    "                                  min_samples_split=2,             # 分解節點時，最少樣本數 \n",
    "                                  min_samples_leaf=1,              # 每個節點最少樣本數\n",
    "                                   #min_weight_fraction_leaf=0.0, # 每個樣本的權重\n",
    "                                   #max_features=None,             \n",
    "                                   random_state=1,\n",
    "                                   #max_leaf_nodes=None,           # 以雜質相對少的方式種樹，None代表無限制\n",
    "                                   #min_impurity_decrease=0.0,      # 如果分裂將使雜質減少，則分裂節點\n",
    "                                   #min_impurity_split=None,          # 樹木早期生長的門檻 以前一個參數為主\n",
    "                                   presort=False)                         # 是否預先分配數據，加快最佳分裂的發現\n",
    "model_DTC = regressor.fit(train_x,train_y)"
   ]
  },
  {
   "cell_type": "code",
   "execution_count": 71,
   "metadata": {},
   "outputs": [
    {
     "data": {
      "text/plain": [
       "0.7554916477678004"
      ]
     },
     "execution_count": 71,
     "metadata": {},
     "output_type": "execute_result"
    }
   ],
   "source": [
    "# 預測\n",
    "#from sklearn.metrics import r2_score\n",
    "pred_y = model_DTC.predict(test_x)\n",
    "r2_score(test_y,pred_y)"
   ]
  },
  {
   "cell_type": "code",
   "execution_count": 72,
   "metadata": {
    "scrolled": true
   },
   "outputs": [
    {
     "name": "stdout",
     "output_type": "stream",
     "text": [
      "[4.98669508e-03 1.00265122e-04 1.60836379e-02 9.54643865e-03\n",
      " 6.22594198e-01 2.60522445e-03 1.93458485e-02 8.20466284e-03\n",
      " 9.29417109e-04 2.49784437e-03 7.94057394e-04 1.41211712e-03\n",
      " 2.69691104e-05 2.96987790e-03 1.09831862e-03 2.05938559e-02\n",
      " 2.41861839e-06 3.60190961e-05 4.87358317e-03 2.53534110e-02\n",
      " 5.24778595e-05 4.63694600e-05 2.03885396e-02 7.64439095e-02\n",
      " 0.00000000e+00 1.00519824e-01 9.48486208e-04 3.20549644e-04\n",
      " 2.87770296e-04 4.53727545e-03 5.83805002e-05 0.00000000e+00\n",
      " 1.54182607e-04 3.55871854e-04 1.81652459e-03 1.61484474e-04\n",
      " 2.57295691e-03 4.10110799e-04 5.79613443e-03 8.69205383e-03\n",
      " 7.30575766e-06 8.22637732e-05 8.25323506e-03 2.41320897e-03\n",
      " 4.38775338e-04 0.00000000e+00 0.00000000e+00 0.00000000e+00\n",
      " 0.00000000e+00 1.66205043e-04 0.00000000e+00 1.55580588e-03\n",
      " 1.10481083e-03 0.00000000e+00 0.00000000e+00 1.71579099e-04\n",
      " 2.39427688e-06 0.00000000e+00 0.00000000e+00 0.00000000e+00\n",
      " 0.00000000e+00 3.25887060e-05 0.00000000e+00 6.22268220e-04\n",
      " 1.53970168e-04 0.00000000e+00 2.60212870e-04 5.42204751e-06\n",
      " 1.08618883e-04 6.02322049e-06 7.94942046e-06 0.00000000e+00\n",
      " 0.00000000e+00 2.40410996e-04 1.28963425e-03 1.69262670e-08\n",
      " 0.00000000e+00 6.52219507e-05 2.30812825e-06 6.88567437e-04\n",
      " 5.44761069e-06 0.00000000e+00 0.00000000e+00 0.00000000e+00\n",
      " 1.76935911e-05 0.00000000e+00 0.00000000e+00 6.90615872e-05\n",
      " 7.62949543e-04 0.00000000e+00 0.00000000e+00 5.96933015e-06\n",
      " 0.00000000e+00 7.53870564e-05 0.00000000e+00 2.65705153e-05\n",
      " 3.31754832e-06 8.31267533e-05 6.18527736e-05 0.00000000e+00\n",
      " 4.35659099e-04 0.00000000e+00 2.32736773e-04 0.00000000e+00\n",
      " 1.22049669e-05 0.00000000e+00 1.79570766e-05 0.00000000e+00\n",
      " 1.39332821e-04 0.00000000e+00 0.00000000e+00 0.00000000e+00\n",
      " 0.00000000e+00 0.00000000e+00 0.00000000e+00 0.00000000e+00\n",
      " 0.00000000e+00 9.00477402e-06 0.00000000e+00 0.00000000e+00\n",
      " 0.00000000e+00 0.00000000e+00 0.00000000e+00 2.27489028e-05\n",
      " 2.27759848e-06 7.62095740e-05 1.04322225e-05 0.00000000e+00\n",
      " 0.00000000e+00 0.00000000e+00 2.09885710e-06 7.46448373e-06\n",
      " 0.00000000e+00 1.76507212e-04 0.00000000e+00 0.00000000e+00\n",
      " 8.37362750e-04 2.87464434e-06 0.00000000e+00 2.55695716e-04\n",
      " 0.00000000e+00 0.00000000e+00 0.00000000e+00 3.31754832e-06\n",
      " 0.00000000e+00 0.00000000e+00 0.00000000e+00 0.00000000e+00\n",
      " 6.41371620e-04 0.00000000e+00 0.00000000e+00 0.00000000e+00\n",
      " 0.00000000e+00 0.00000000e+00 0.00000000e+00 0.00000000e+00\n",
      " 3.84136674e-05 0.00000000e+00 3.18829829e-05 1.96021450e-04\n",
      " 0.00000000e+00 8.04403911e-06 2.12358215e-05 7.27513522e-06\n",
      " 2.19485966e-04 3.88683510e-05 0.00000000e+00 0.00000000e+00\n",
      " 0.00000000e+00 0.00000000e+00 1.81952203e-03 3.16813258e-06\n",
      " 6.77050678e-06 3.65840274e-04 0.00000000e+00 6.79715999e-04\n",
      " 0.00000000e+00 0.00000000e+00 7.90598115e-04 3.31754832e-06\n",
      " 0.00000000e+00 0.00000000e+00 2.28246619e-05 1.63564160e-05\n",
      " 7.80961708e-08 0.00000000e+00 1.81583091e-05 8.09413934e-05\n",
      " 0.00000000e+00 0.00000000e+00 0.00000000e+00 0.00000000e+00\n",
      " 6.48913129e-08 0.00000000e+00 0.00000000e+00 0.00000000e+00\n",
      " 0.00000000e+00 3.28301874e-06 7.55791672e-06 0.00000000e+00\n",
      " 0.00000000e+00 2.32315293e-04 1.67559549e-05 4.23156674e-07\n",
      " 0.00000000e+00 2.51763551e-05 0.00000000e+00 0.00000000e+00\n",
      " 6.43621301e-06 0.00000000e+00 3.85892350e-03 0.00000000e+00\n",
      " 5.29792156e-06 0.00000000e+00 1.89963051e-04 0.00000000e+00\n",
      " 5.84994354e-06 2.92351611e-05 1.97898151e-04 0.00000000e+00\n",
      " 0.00000000e+00 0.00000000e+00 4.07358825e-06 0.00000000e+00\n",
      " 2.56238615e-05 0.00000000e+00 0.00000000e+00 0.00000000e+00\n",
      " 0.00000000e+00 0.00000000e+00 0.00000000e+00 0.00000000e+00\n",
      " 7.90901421e-05 1.17186796e-03 0.00000000e+00 0.00000000e+00\n",
      " 3.64795357e-05 4.26231000e-04 1.57417680e-05]\n"
     ]
    }
   ],
   "source": [
    "# 觀察屬性值重要性，值越大越重要\n",
    "print(model_DTC.feature_importances_)"
   ]
  },
  {
   "cell_type": "markdown",
   "metadata": {},
   "source": [
    "## 解釋：為何樹的演算法可以做回歸？"
   ]
  },
  {
   "cell_type": "markdown",
   "metadata": {},
   "source": [
    "# Random Forest regression 隨機森林(資料不進行標準化)"
   ]
  },
  {
   "cell_type": "code",
   "execution_count": 124,
   "metadata": {},
   "outputs": [
    {
     "name": "stdout",
     "output_type": "stream",
     "text": [
      "CPU times: user 1.71 s, sys: 0 ns, total: 1.71 s\n",
      "Wall time: 1.74 s\n"
     ]
    }
   ],
   "source": [
    "# 建模\n",
    "from sklearn.ensemble import RandomForestRegressor\n",
    "\n",
    "regressor = RandomForestRegressor(n_estimators=100,    # 樹的數量\n",
    "                                   criterion='mse',                       # 預設為'mse'  'mae'\n",
    "                                   #max_depth=None,                   # 預設為None 無限制\n",
    "                                   #min_samples_split=2,\n",
    "                                   #min_samples_leaf=1,\n",
    "                                   #min_weight_fraction_leaf=0.0,\n",
    "                                   max_features='auto',                 # 尋找最佳分割所考慮的功能 'auto' 'sqrt' 'log2' 'None' int float\n",
    "                                   #max_leaf_nodes=None,\n",
    "                                   #min_impurity_decrease=0.0,\n",
    "                                   #min_impurity_split=None,\n",
    "                                   bootstrap=True,                      # 種樹時是否使用 bootstrap 的樣本\n",
    "                                   oob_score=True,\n",
    "                                   n_jobs=-1,                               # 最大工作數 -1代表使用全部的處理器\n",
    "                                   random_state=5)\n",
    "                                   #verbose=0,                              # 在擬合和預設時顯示控制詳細程度 (只是顯示步驟而已 對預測確率沒幫助)\n",
    "                                   #warm_start=False)                   # 設為True時，是以補充隨機森林模型的方式運算\n",
    "                                   #class_weight='balanced')                 # 'None' 'balanced' 'balanced_subsample' 回歸分析沒有\n",
    "%time model_RFC = regressor.fit(train_x,train_y)"
   ]
  },
  {
   "cell_type": "code",
   "execution_count": 125,
   "metadata": {},
   "outputs": [
    {
     "data": {
      "text/plain": [
       "0.8704855408273656"
      ]
     },
     "execution_count": 125,
     "metadata": {},
     "output_type": "execute_result"
    }
   ],
   "source": [
    "# 預測\n",
    "model_RFC.oob_score_"
   ]
  },
  {
   "cell_type": "code",
   "execution_count": null,
   "metadata": {},
   "outputs": [],
   "source": [
    "pred_y=model_RFC.predict(test_x)\n",
    "print( classification_report(test_y,pred_y) )"
   ]
  },
  {
   "cell_type": "markdown",
   "metadata": {},
   "source": [
    "# 隨機森林的特徵選取"
   ]
  },
  {
   "cell_type": "code",
   "execution_count": 126,
   "metadata": {},
   "outputs": [
    {
     "name": "stdout",
     "output_type": "stream",
     "text": [
      " 1) OverallQual                    0.562438\n",
      " 2) GrLivArea                      0.112454\n",
      " 3) 2ndFlrSF                       0.045780\n",
      " 4) GarageCars                     0.036902\n",
      " 5) TotalBsmtSF                    0.028612\n",
      " 6) BsmtFinSF1                     0.020431\n",
      " 7) 1stFlrSF                       0.017240\n",
      " 8) GarageArea                     0.014892\n",
      " 9) LotArea                        0.014690\n",
      "10) YearBuilt                      0.014154\n",
      "11) FullBath                       0.011106\n",
      "12) BsmtQual                       0.010121\n",
      "13) MasVnrArea                     0.006688\n",
      "14) LotFrontage                    0.005634\n",
      "15) GarageYrBlt                    0.005595\n",
      "16) WoodDeckSF                     0.005193\n",
      "17) YearRemodAdd                   0.005097\n",
      "18) OpenPorchSF                    0.004902\n",
      "19) Fireplaces                     0.004547\n",
      "20) BsmtUnfSF                      0.004356\n",
      "21) OverallCond                    0.004177\n",
      "22) Id                             0.003399\n",
      "23) MoSold                         0.003325\n",
      "24) BedroomAbvGr                   0.002620\n",
      "25) TotRmsAbvGrd                   0.002065\n",
      "26) BsmtExposure                   0.001780\n",
      "27) PoolArea                       0.001755\n",
      "28) GarageFinish                   0.001734\n",
      "29) GarageType_Attchd              0.001660\n",
      "30) KitchenQual                    0.001604\n",
      "31) LotShape_Reg                   0.001598\n",
      "32) YrSold                         0.001562\n",
      "33) ExterQual                      0.001532\n",
      "34) MSSubClass                     0.001469\n",
      "35) LandContour_Bnk                0.001267\n",
      "36) FireplaceQu                    0.001181\n",
      "37) GarageType_Detchd              0.001171\n",
      "38) MSZoning_RM                    0.001168\n",
      "39) BsmtFinType1                   0.001142\n",
      "40) CentralAir                     0.001082\n",
      "41) Condition1_Norm                0.001059\n",
      "42) HalfBath                       0.001053\n",
      "43) BsmtFullBath                   0.000953\n",
      "44) Exterior1st_HdBoard            0.000807\n",
      "45) EnclosedPorch                  0.000697\n",
      "46) LandSlope_Gtl                  0.000659\n",
      "47) MSZoning_RL                    0.000619\n",
      "48) SaleCondition_Partial          0.000607\n",
      "49) Neighborhood_StoneBr           0.000584\n",
      "50) MasVnrType_Stone               0.000580\n",
      "51) HeatingQC                      0.000567\n",
      "52) LotConfig_Inside               0.000557\n",
      "53) SaleCondition_Normal           0.000547\n",
      "54) SaleType_New                   0.000543\n",
      "55) RoofStyle_Hip                  0.000542\n",
      "56) Neighborhood_Crawfor           0.000538\n",
      "57) KitchenAbvGr                   0.000513\n",
      "58) Foundation_PConc               0.000467\n",
      "59) MasVnrType_BrkFace             0.000462\n",
      "60) Functional_Typ                 0.000453\n",
      "61) Alley_None                     0.000440\n",
      "62) BsmtCond                       0.000440\n",
      "63) LotShape_IR2                   0.000407\n",
      "64) Exterior2nd_HdBoard            0.000407\n",
      "65) Neighborhood_NoRidge           0.000406\n",
      "66) BsmtFinSF2                     0.000399\n",
      "67) LotConfig_CulDSac              0.000396\n",
      "68) SaleType_WD                    0.000394\n",
      "69) LotConfig_Corner               0.000394\n",
      "70) Exterior1st_BrkFace            0.000388\n",
      "71) ExterCond                      0.000381\n",
      "72) Condition2_Norm                0.000380\n",
      "73) GarageCond                     0.000378\n",
      "74) LandContour_Lvl                0.000356\n",
      "75) Fence                          0.000353\n",
      "76) SaleCondition_Family           0.000352\n",
      "77) ScreenPorch                    0.000350\n",
      "78) Neighborhood_Edwards           0.000346\n",
      "79) LotShape_IR1                   0.000345\n",
      "80) RoofStyle_Gable                0.000343\n",
      "81) Exterior2nd_VinylSd            0.000323\n",
      "82) SaleCondition_Abnorml          0.000321\n",
      "83) Exterior2nd_Stucco             0.000308\n",
      "84) Condition2_PosN                0.000296\n",
      "85) Exterior1st_VinylSd            0.000285\n",
      "86) Neighborhood_OldTown           0.000272\n",
      "87) Exterior2nd_BrkFace            0.000261\n",
      "88) HouseStyle_1.5Fin              0.000254\n",
      "89) LandContour_Low                0.000246\n",
      "90) GarageQual                     0.000245\n",
      "91) BsmtHalfBath                   0.000239\n",
      "92) BsmtFinType2                   0.000236\n",
      "93) PavedDrive_N                   0.000224\n",
      "94) Condition1_PosN                0.000221\n",
      "95) MasVnrType_None                0.000212\n",
      "96) Neighborhood_CollgCr           0.000207\n",
      "97) MSZoning_C (all)               0.000197\n",
      "98) PoolQC                         0.000193\n",
      "99) HouseStyle_2Story              0.000190\n",
      "100) Neighborhood_NAmes             0.000189\n",
      "101) Exterior1st_CemntBd            0.000186\n",
      "102) 3SsnPorch                      0.000184\n",
      "103) GarageType_BuiltIn             0.000184\n",
      "104) LandSlope_Mod                  0.000183\n",
      "105) PavedDrive_Y                   0.000180\n",
      "106) Foundation_CBlock              0.000173\n",
      "107) Exterior1st_Plywood            0.000172\n",
      "108) Foundation_BrkTil              0.000169\n",
      "109) Exterior2nd_Plywood            0.000165\n",
      "110) Exterior2nd_ImStucc            0.000164\n",
      "111) Exterior1st_Wd Sdng            0.000162\n",
      "112) Exterior2nd_MetalSd            0.000157\n",
      "113) Neighborhood_Timber            0.000156\n",
      "114) HouseStyle_1Story              0.000153\n",
      "115) LowQualFinSF                   0.000148\n",
      "116) Neighborhood_NridgHt           0.000141\n",
      "117) BldgType_1Fam                  0.000138\n",
      "118) Neighborhood_ClearCr           0.000135\n",
      "119) RoofStyle_Flat                 0.000133\n",
      "120) Exterior1st_MetalSd            0.000128\n",
      "121) Exterior2nd_CmentBd            0.000127\n",
      "122) Alley_Pave                     0.000118\n",
      "123) Exterior2nd_Wd Sdng            0.000111\n",
      "124) Functional_Mod                 0.000109\n",
      "125) Neighborhood_Somerst           0.000101\n",
      "126) HouseStyle_SLvl                0.000098\n",
      "127) Exterior1st_BrkComm            0.000096\n",
      "128) RoofMatl_WdShngl               0.000091\n",
      "129) MSZoning_FV                    0.000090\n",
      "130) Exterior2nd_Wd Shng            0.000088\n",
      "131) Neighborhood_Sawyer            0.000087\n",
      "132) Electrical_FuseA               0.000085\n",
      "133) RoofMatl_CompShg               0.000083\n",
      "134) Electrical_SBrkr               0.000076\n",
      "135) Neighborhood_NWAmes            0.000073\n",
      "136) LandContour_HLS                0.000069\n",
      "137) GarageType_CarPort             0.000069\n",
      "138) Functional_Min2                0.000061\n",
      "139) Neighborhood_SWISU             0.000061\n",
      "140) Condition1_Feedr               0.000060\n",
      "141) Exterior2nd_Brk Cmn            0.000058\n",
      "142) Neighborhood_Gilbert           0.000056\n",
      "143) BldgType_Duplex                0.000054\n",
      "144) PavedDrive_P                   0.000051\n",
      "145) Condition1_Artery              0.000049\n",
      "146) Exterior1st_Stucco             0.000048\n",
      "147) LotConfig_FR2                  0.000047\n",
      "148) BldgType_TwnhsE                0.000045\n",
      "149) Functional_Maj2                0.000045\n",
      "150) Neighborhood_IDOTRR            0.000042\n",
      "151) Functional_Min1                0.000042\n",
      "152) MiscVal                        0.000041\n",
      "153) Heating_GasA                   0.000040\n",
      "154) Neighborhood_SawyerW           0.000039\n",
      "155) Neighborhood_BrkSide           0.000039\n",
      "156) MiscFeature_None               0.000037\n",
      "157) Alley_Grvl                     0.000034\n",
      "158) MSZoning_RH                    0.000034\n",
      "159) Functional_Maj1                0.000033\n",
      "160) RoofMatl_Tar&Grv               0.000033\n",
      "161) Heating_Grav                   0.000032\n",
      "162) Neighborhood_Mitchel           0.000030\n",
      "163) SaleType_CWD                   0.000028\n",
      "164) RoofStyle_Gambrel              0.000025\n",
      "165) LandSlope_Sev                  0.000025\n",
      "166) LotConfig_FR3                  0.000024\n",
      "167) MiscFeature_Shed               0.000023\n",
      "168) SaleType_ConLD                 0.000023\n",
      "169) Neighborhood_Veenker           0.000023\n",
      "170) RoofMatl_ClyTile               0.000022\n",
      "171) RoofStyle_Shed                 0.000022\n",
      "172) Neighborhood_BrDale            0.000020\n",
      "173) Condition1_PosA                0.000019\n",
      "174) Neighborhood_NPkVill           0.000019\n",
      "175) BldgType_Twnhs                 0.000018\n",
      "176) Condition1_RRAe                0.000017\n",
      "177) SaleCondition_Alloca           0.000017\n",
      "178) Neighborhood_MeadowV           0.000017\n",
      "179) LotShape_IR3                   0.000016\n",
      "180) GarageType_None                0.000016\n",
      "181) SaleType_COD                   0.000013\n",
      "182) Exterior1st_AsbShng            0.000013\n",
      "183) Heating_GasW                   0.000012\n",
      "184) HouseStyle_2.5Unf              0.000012\n",
      "185) Street_Grvl                    0.000012\n",
      "186) SaleType_ConLw                 0.000012\n",
      "187) Condition1_RRAn                0.000012\n",
      "188) MasVnrType_BrkCmn              0.000011\n",
      "189) SaleType_Oth                   0.000011\n",
      "190) RoofMatl_Metal                 0.000010\n",
      "191) RoofMatl_WdShake               0.000009\n",
      "192) Exterior2nd_AsbShng            0.000009\n",
      "193) Electrical_FuseF               0.000007\n",
      "194) BldgType_2fmCon                0.000007\n",
      "195) Exterior1st_WdShing            0.000006\n",
      "196) HouseStyle_2.5Fin              0.000006\n",
      "197) Exterior1st_Stone              0.000005\n",
      "198) Condition1_RRNn                0.000005\n",
      "199) Electrical_Mix                 0.000005\n",
      "200) SaleCondition_AdjLand          0.000005\n",
      "201) Condition2_Artery              0.000005\n",
      "202) Street_Pave                    0.000005\n",
      "203) Heating_OthW                   0.000005\n",
      "204) Foundation_Slab                0.000005\n",
      "205) HouseStyle_SFoyer              0.000005\n",
      "206) HouseStyle_1.5Unf              0.000004\n",
      "207) Condition2_Feedr               0.000004\n",
      "208) GarageType_Basment             0.000002\n",
      "209) Condition1_RRNe                0.000002\n",
      "210) Exterior2nd_AsphShn            0.000002\n",
      "211) Neighborhood_Blmngtn           0.000002\n",
      "212) Heating_Wall                   0.000001\n",
      "213) Exterior2nd_Stone              0.000001\n",
      "214) Utilities_AllPub               0.000001\n",
      "215) Electrical_FuseP               0.000001\n",
      "216) GarageType_2Types              0.000001\n",
      "217) Condition2_RRNn                0.000000\n",
      "218) RoofMatl_Roll                  0.000000\n",
      "219) SaleType_Con                   0.000000\n",
      "220) MiscFeature_TenC               0.000000\n",
      "221) Foundation_Stone               0.000000\n",
      "222) Exterior2nd_CBlock             0.000000\n",
      "223) RoofStyle_Mansard              0.000000\n",
      "224) Exterior1st_AsphShn            0.000000\n",
      "225) Foundation_Wood                0.000000\n",
      "226) Condition2_RRAn                0.000000\n",
      "227) MiscFeature_Gar2               0.000000\n",
      "228) Heating_Floor                  0.000000\n",
      "229) SaleType_ConLI                 0.000000\n",
      "230) MiscFeature_Othr               0.000000\n",
      "231) Exterior1st_CBlock             0.000000\n",
      "232) Condition2_RRAe                0.000000\n",
      "233) Functional_Sev                 0.000000\n",
      "234) RoofMatl_Membran               0.000000\n",
      "235) Exterior1st_ImStucc            0.000000\n",
      "236) Utilities_NoSeWa               0.000000\n",
      "237) Exterior2nd_Other              0.000000\n",
      "238) Condition2_PosA                0.000000\n",
      "239) Neighborhood_Blueste           0.000000\n"
     ]
    },
    {
     "data": {
      "image/png": "[encoded data removed]",
      "text/plain": [
       "<Figure size 432x288 with 1 Axes>"
      ]
     },
     "metadata": {},
     "output_type": "display_data"
    }
   ],
   "source": [
    "# 畫出feature importance\n",
    "feat_labels = df.columns  # 取欄位名\n",
    "importances = model_RFC.feature_importances_\n",
    "\n",
    "indices = np.argsort(importances)[::-1]\n",
    "\n",
    "for f in range(train_x.shape[1]):\n",
    "    print(\"%2d) %-*s %f\" % (f + 1, 30,\n",
    "                            feat_labels[indices[f]],\n",
    "                            importances[indices[f]]))\n",
    "plt.title('Feature Importance')\n",
    "plt.bar(range(train_x.shape[1]),\n",
    "       importances[indices],\n",
    "       align='center')\n",
    "plt.xticks(range(train_x.shape[1]),\n",
    "           feat_labels,\n",
    "           rotation=90)\n",
    "plt.xlim([-1, train_x.shape[1]])\n",
    "plt.tight_layout()\n",
    "plt.show()"
   ]
  },
  {
   "cell_type": "code",
   "execution_count": 127,
   "metadata": {},
   "outputs": [
    {
     "name": "stdout",
     "output_type": "stream",
     "text": [
      "Number of samples that meet this criterion: 1168\n"
     ]
    }
   ],
   "source": [
    "from sklearn.feature_selection import SelectFromModel\n",
    "sfm = SelectFromModel(model_RFC, threshold=0.0001, prefit=True)  # 特徵重要性門檻值設為0.01\n",
    "x_selected = sfm.transform(train_x)\n",
    "print('Number of samples that meet this criterion:',\n",
    "     x_selected.shape[0])"
   ]
  },
  {
   "cell_type": "code",
   "execution_count": 128,
   "metadata": {},
   "outputs": [
    {
     "name": "stdout",
     "output_type": "stream",
     "text": [
      " 1) OverallQual                    0.562438\n",
      " 2) GrLivArea                      0.112454\n",
      " 3) 2ndFlrSF                       0.045780\n",
      " 4) GarageCars                     0.036902\n",
      " 5) TotalBsmtSF                    0.028612\n",
      " 6) BsmtFinSF1                     0.020431\n",
      " 7) 1stFlrSF                       0.017240\n",
      " 8) GarageArea                     0.014892\n",
      " 9) LotArea                        0.014690\n",
      "10) YearBuilt                      0.014154\n",
      "11) FullBath                       0.011106\n",
      "12) BsmtQual                       0.010121\n",
      "13) MasVnrArea                     0.006688\n",
      "14) LotFrontage                    0.005634\n",
      "15) GarageYrBlt                    0.005595\n",
      "16) WoodDeckSF                     0.005193\n",
      "17) YearRemodAdd                   0.005097\n",
      "18) OpenPorchSF                    0.004902\n",
      "19) Fireplaces                     0.004547\n",
      "20) BsmtUnfSF                      0.004356\n",
      "21) OverallCond                    0.004177\n",
      "22) Id                             0.003399\n",
      "23) MoSold                         0.003325\n",
      "24) BedroomAbvGr                   0.002620\n",
      "25) TotRmsAbvGrd                   0.002065\n",
      "26) BsmtExposure                   0.001780\n",
      "27) PoolArea                       0.001755\n",
      "28) GarageFinish                   0.001734\n",
      "29) GarageType_Attchd              0.001660\n",
      "30) KitchenQual                    0.001604\n",
      "31) LotShape_Reg                   0.001598\n",
      "32) YrSold                         0.001562\n",
      "33) ExterQual                      0.001532\n",
      "34) MSSubClass                     0.001469\n",
      "35) LandContour_Bnk                0.001267\n",
      "36) FireplaceQu                    0.001181\n",
      "37) GarageType_Detchd              0.001171\n",
      "38) MSZoning_RM                    0.001168\n",
      "39) BsmtFinType1                   0.001142\n",
      "40) CentralAir                     0.001082\n",
      "41) Condition1_Norm                0.001059\n",
      "42) HalfBath                       0.001053\n",
      "43) BsmtFullBath                   0.000953\n",
      "44) Exterior1st_HdBoard            0.000807\n",
      "45) EnclosedPorch                  0.000697\n",
      "46) LandSlope_Gtl                  0.000659\n",
      "47) MSZoning_RL                    0.000619\n",
      "48) SaleCondition_Partial          0.000607\n",
      "49) Neighborhood_StoneBr           0.000584\n",
      "50) MasVnrType_Stone               0.000580\n",
      "51) HeatingQC                      0.000567\n",
      "52) LotConfig_Inside               0.000557\n",
      "53) SaleCondition_Normal           0.000547\n",
      "54) SaleType_New                   0.000543\n",
      "55) RoofStyle_Hip                  0.000542\n",
      "56) Neighborhood_Crawfor           0.000538\n",
      "57) KitchenAbvGr                   0.000513\n",
      "58) Foundation_PConc               0.000467\n",
      "59) MasVnrType_BrkFace             0.000462\n",
      "60) Functional_Typ                 0.000453\n",
      "61) Alley_None                     0.000440\n",
      "62) BsmtCond                       0.000440\n",
      "63) LotShape_IR2                   0.000407\n",
      "64) Exterior2nd_HdBoard            0.000407\n",
      "65) Neighborhood_NoRidge           0.000406\n",
      "66) BsmtFinSF2                     0.000399\n",
      "67) LotConfig_CulDSac              0.000396\n",
      "68) SaleType_WD                    0.000394\n",
      "69) LotConfig_Corner               0.000394\n",
      "70) Exterior1st_BrkFace            0.000388\n",
      "71) ExterCond                      0.000381\n",
      "72) Condition2_Norm                0.000380\n",
      "73) GarageCond                     0.000378\n",
      "74) LandContour_Lvl                0.000356\n",
      "75) Fence                          0.000353\n",
      "76) SaleCondition_Family           0.000352\n",
      "77) ScreenPorch                    0.000350\n",
      "78) Neighborhood_Edwards           0.000346\n",
      "79) LotShape_IR1                   0.000345\n",
      "80) RoofStyle_Gable                0.000343\n",
      "81) Exterior2nd_VinylSd            0.000323\n",
      "82) SaleCondition_Abnorml          0.000321\n",
      "83) Exterior2nd_Stucco             0.000308\n",
      "84) Condition2_PosN                0.000296\n",
      "85) Exterior1st_VinylSd            0.000285\n",
      "86) Neighborhood_OldTown           0.000272\n",
      "87) Exterior2nd_BrkFace            0.000261\n",
      "88) HouseStyle_1.5Fin              0.000254\n",
      "89) LandContour_Low                0.000246\n",
      "90) GarageQual                     0.000245\n",
      "91) BsmtHalfBath                   0.000239\n",
      "92) BsmtFinType2                   0.000236\n",
      "93) PavedDrive_N                   0.000224\n",
      "94) Condition1_PosN                0.000221\n",
      "95) MasVnrType_None                0.000212\n",
      "96) Neighborhood_CollgCr           0.000207\n",
      "97) MSZoning_C (all)               0.000197\n",
      "98) PoolQC                         0.000193\n",
      "99) HouseStyle_2Story              0.000190\n",
      "100) Neighborhood_NAmes             0.000189\n",
      "101) Exterior1st_CemntBd            0.000186\n",
      "102) 3SsnPorch                      0.000184\n",
      "103) GarageType_BuiltIn             0.000184\n",
      "104) LandSlope_Mod                  0.000183\n",
      "105) PavedDrive_Y                   0.000180\n",
      "106) Foundation_CBlock              0.000173\n",
      "107) Exterior1st_Plywood            0.000172\n",
      "108) Foundation_BrkTil              0.000169\n",
      "109) Exterior2nd_Plywood            0.000165\n",
      "110) Exterior2nd_ImStucc            0.000164\n",
      "111) Exterior1st_Wd Sdng            0.000162\n",
      "112) Exterior2nd_MetalSd            0.000157\n",
      "113) Neighborhood_Timber            0.000156\n",
      "114) HouseStyle_1Story              0.000153\n",
      "115) LowQualFinSF                   0.000148\n",
      "116) Neighborhood_NridgHt           0.000141\n",
      "117) BldgType_1Fam                  0.000138\n",
      "118) Neighborhood_ClearCr           0.000135\n",
      "119) RoofStyle_Flat                 0.000133\n",
      "120) Exterior1st_MetalSd            0.000128\n",
      "121) Exterior2nd_CmentBd            0.000127\n",
      "122) Alley_Pave                     0.000118\n",
      "123) Exterior2nd_Wd Sdng            0.000111\n",
      "124) Functional_Mod                 0.000109\n",
      "125) Neighborhood_Somerst           0.000101\n"
     ]
    }
   ],
   "source": [
    "for f in range(x_selected.shape[1]):\n",
    "    print(\"%2d) %-*s %f\" % (f + 1, 30,\n",
    "                            feat_labels[indices[f]],\n",
    "                            importances[indices[f]]))"
   ]
  },
  {
   "cell_type": "code",
   "execution_count": 129,
   "metadata": {},
   "outputs": [
    {
     "data": {
      "text/plain": [
       "125"
      ]
     },
     "execution_count": 129,
     "metadata": {},
     "output_type": "execute_result"
    }
   ],
   "source": [
    "# 保留重要特徵值欄位\n",
    "fea_imp = []\n",
    "for f in range(x_selected.shape[1]):\n",
    "    fea_imp.append(feat_labels[indices[f]])\n",
    "\n",
    "#d=set([i.split('_',1)[0] for i in fea_imp])\n",
    "#fea_imp= list(d)\n",
    "len(fea_imp)"
   ]
  },
  {
   "cell_type": "markdown",
   "metadata": {},
   "source": [
    "# XGBoosting(資料不進行標準化)"
   ]
  },
  {
   "cell_type": "code",
   "execution_count": 130,
   "metadata": {},
   "outputs": [
    {
     "data": {
      "text/plain": [
       "'0.80'"
      ]
     },
     "execution_count": 130,
     "metadata": {},
     "output_type": "execute_result"
    }
   ],
   "source": [
    "from sklearn.model_selection import train_test_split\n",
    "from sklearn.metrics import accuracy_score\n",
    "import xgboost as xgb\n",
    "xgb.__version__"
   ]
  },
  {
   "cell_type": "code",
   "execution_count": 142,
   "metadata": {},
   "outputs": [
    {
     "name": "stdout",
     "output_type": "stream",
     "text": [
      "Fitting 5 folds for each of 5 candidates, totalling 25 fits\n"
     ]
    },
    {
     "name": "stderr",
     "output_type": "stream",
     "text": [
      "[Parallel(n_jobs=-1)]: Done  25 out of  25 | elapsed:    8.8s finished\n"
     ]
    },
    {
     "name": "stdout",
     "output_type": "stream",
     "text": [
      "each round result:[mean: 0.89390, std: 0.03482, params: {'learning_rate': 0.1}, mean: 0.89631, std: 0.02562, params: {'learning_rate': 0.15}, mean: 0.88909, std: 0.02657, params: {'learning_rate': 0.2}, mean: 0.87999, std: 0.03489, params: {'learning_rate': 0.25}, mean: 0.86005, std: 0.03394, params: {'learning_rate': 0.3}]\n",
      "best params:{'learning_rate': 0.15}\n",
      "best model score:0.896309429752791\n",
      "CPU times: user 9.03 s, sys: 11.8 ms, total: 9.05 s\n",
      "Wall time: 9.22 s\n"
     ]
    },
    {
     "name": "stderr",
     "output_type": "stream",
     "text": [
      "/opt/anaconda3/lib/python3.7/site-packages/sklearn/model_selection/_search.py:762: DeprecationWarning: The grid_scores_ attribute was deprecated in version 0.18 in favor of the more elaborate cv_results_ attribute. The grid_scores_ attribute will not be available from 0.20\n",
      "  DeprecationWarning)\n"
     ]
    }
   ],
   "source": [
    "%%time\n",
    "from sklearn.model_selection import GridSearchCV, cross_val_score\n",
    "\n",
    "#cv_params = {'n_estimators':[100,150,50,30]}\n",
    "#cv_params = {'max_depth':range(4,9),'min_child_weight':range(1,6)}\n",
    "#cv_params = {'gamma':[0,0.1,0.2,0.3,0.4,0.5]}\n",
    "#cv_params = {'subsample':[0.6,0.7,0.4,0.5],'colsample_bytree':[0.6,0.7,0.4,0.5]}\n",
    "#cv_params = {'reg_alpha':[0,0.05,0.1,1,2,3],'reg_lambda':[0,0.05,0.1,1,2,3]}\n",
    "#cv_params = {'learning_rate':[0.1,0.15,0.2,0.25,0.3]}\n",
    "other_params = {'learning_rate':0.15,'n_estimators':100,'max_depth':4,'min_child_weight':3,'seed':0,\n",
    "              'subsample':0.6,'colsample_bytree':0.6,'gamma':0,'reg_alpha':3,'reg_lambda':0}\n",
    "\n",
    "model_xgboost = xgb.XGBRegressor(**other_params)\n",
    "optimized_GBM = GridSearchCV(estimator = model_xgboost, param_grid=cv_params, scoring='r2', cv=5, verbose=1, n_jobs=-1)\n",
    "optimized_GBM.fit(train_x,train_y)\n",
    "evalute_result = optimized_GBM.grid_scores_\n",
    "print('each round result:{0}'.format(evalute_result))\n",
    "print('best params:{0}'.format(optimized_GBM.best_params_))\n",
    "print('best model score:{0}'.format(optimized_GBM.best_score_))"
   ]
  },
  {
   "cell_type": "code",
   "execution_count": 275,
   "metadata": {},
   "outputs": [
    {
     "name": "stdout",
     "output_type": "stream",
     "text": [
      "CPU times: user 427 ms, sys: 1 µs, total: 427 ms\n",
      "Wall time: 438 ms\n"
     ]
    }
   ],
   "source": [
    "%%time\n",
    "other_params = {'learning_rate':0.15,'n_estimators':100,'max_depth':4,'min_child_weight':3,'seed':0,\n",
    "              'subsample':0.6,'colsample_bytree':0.6,'gamma':0,'reg_alpha':3,'reg_lambda':0}\n",
    "\n",
    "model_xgboost = xgb.XGBRegressor(**other_params)\n",
    "model_xgboost.fit(train_x,train_y)"
   ]
  },
  {
   "cell_type": "markdown",
   "metadata": {},
   "source": [
    "# XGBoosting: 以$R^2$評估回歸結果"
   ]
  },
  {
   "cell_type": "code",
   "execution_count": 276,
   "metadata": {},
   "outputs": [
    {
     "name": "stdout",
     "output_type": "stream",
     "text": [
      "Mean Absolute Error : 16767.153989190923\n"
     ]
    }
   ],
   "source": [
    "predictions = model_xgboost.predict(test_x)\n",
    "from sklearn.metrics import mean_absolute_error\n",
    "print(\"Mean Absolute Error : \" + str(mean_absolute_error(predictions, test_y)))"
   ]
  },
  {
   "cell_type": "markdown",
   "metadata": {},
   "source": [
    "# XGBoost: 檢視各欄位重要性"
   ]
  },
  {
   "cell_type": "code",
   "execution_count": 147,
   "metadata": {
    "scrolled": true
   },
   "outputs": [
    {
     "data": {
      "image/png": "[encoded data removed]",
      "text/plain": [
       "<Figure size 432x288 with 1 Axes>"
      ]
     },
     "metadata": {},
     "output_type": "display_data"
    }
   ],
   "source": [
    "from xgboost import plot_importance\n",
    "\n",
    "plot_importance(model_xgboost)\n",
    "plt.show()"
   ]
  },
  {
   "cell_type": "markdown",
   "metadata": {},
   "source": [
    "# 找出房價離群值"
   ]
  },
  {
   "cell_type": "code",
   "execution_count": 148,
   "metadata": {},
   "outputs": [],
   "source": [
    "max_stdPrice = np.mean(y) + np.std(y) * 3\n",
    "min_stdPrice = np.mean(y) - np.std(y) * 3\n",
    "outlier = []\n",
    "for i in range(len(y)):\n",
    "    if y[i] > max_stdPrice:\n",
    "        outlier += [i]\n",
    "    elif y[i] < min_stdPrice:\n",
    "        outlier += [i]"
   ]
  },
  {
   "cell_type": "code",
   "execution_count": 149,
   "metadata": {},
   "outputs": [],
   "source": [
    "# 刪除離群值資料\n",
    "df_new = df.drop(outlier, axis = 0)\n",
    "target_new = target.drop(outlier, axis = 0)"
   ]
  },
  {
   "cell_type": "code",
   "execution_count": 150,
   "metadata": {},
   "outputs": [],
   "source": [
    "# 選取重要特徵值欄位\n",
    "df_new = df_new[fea_imp]\n",
    "dfTest = dfTest[fea_imp]"
   ]
  },
  {
   "cell_type": "code",
   "execution_count": 151,
   "metadata": {},
   "outputs": [
    {
     "data": {
      "text/plain": [
       "(1438, 125)"
      ]
     },
     "execution_count": 151,
     "metadata": {},
     "output_type": "execute_result"
    }
   ],
   "source": [
    "# 切割訓練 測試資料\n",
    "from sklearn.model_selection import train_test_split\n",
    "\n",
    "x2 = df_new.values  ## 原始資料\n",
    "y2 = target_new.values  ## 原始資料\n",
    "    \n",
    "train_x2, test_x2, train_y2, test_y2 = train_test_split(x2, y2, test_size=0.2)\n",
    "\n",
    "x2.shape"
   ]
  },
  {
   "cell_type": "code",
   "execution_count": 152,
   "metadata": {},
   "outputs": [],
   "source": [
    "assert train_x2.shape[0] == train_y2.shape[0],\"error, check my data!\""
   ]
  },
  {
   "cell_type": "code",
   "execution_count": null,
   "metadata": {},
   "outputs": [],
   "source": [
    "# 資料標準化\n",
    "#from sklearn.preprocessing import StandardScaler\n",
    "#scaler = StandardScaler()\n",
    "#scaler = scaler.fit(train_x2)\n",
    "\n",
    "#train_x2 = scaler.transform(train_x2)\n",
    "#test_x2 = scaler.transform(test_x2)"
   ]
  },
  {
   "cell_type": "code",
   "execution_count": null,
   "metadata": {},
   "outputs": [],
   "source": [
    "# 觀察標準化結果\n",
    "#np.mean(train_x2), np.std(train_x2)  "
   ]
  },
  {
   "cell_type": "markdown",
   "metadata": {},
   "source": [
    "# Scikit-learn: Ridge Regression"
   ]
  },
  {
   "cell_type": "code",
   "execution_count": 153,
   "metadata": {},
   "outputs": [],
   "source": [
    "# 建模\n",
    "from sklearn.linear_model import Ridge\n",
    "\n",
    "regressor = Ridge(max_iter=1000000)\n",
    "model_Ridge = regressor.fit(train_x2,train_y2)"
   ]
  },
  {
   "cell_type": "code",
   "execution_count": 154,
   "metadata": {},
   "outputs": [
    {
     "data": {
      "text/plain": [
       "0.8625262258617415"
      ]
     },
     "execution_count": 154,
     "metadata": {},
     "output_type": "execute_result"
    }
   ],
   "source": [
    "# 預測\n",
    "from sklearn.metrics import r2_score\n",
    "pred_y2 = model_Ridge.predict(test_x2)\n",
    "r2_score(test_y2,pred_y2)"
   ]
  },
  {
   "cell_type": "code",
   "execution_count": 155,
   "metadata": {},
   "outputs": [
    {
     "name": "stdout",
     "output_type": "stream",
     "text": [
      "CPU times: user 702 ms, sys: 7.85 ms, total: 710 ms\n",
      "Wall time: 728 ms\n"
     ]
    }
   ],
   "source": [
    "# 建模 & 自動調參\n",
    "from sklearn.linear_model import Ridge\n",
    "from sklearn.model_selection import GridSearchCV, cross_val_score\n",
    "\n",
    "al=[0.01,0.1,0.3,0.5,0.8,1.0]\n",
    "rs=[None,0,1,3]\n",
    "max_i=[1000000]\n",
    "kwargs={'alpha':al,'max_iter':max_i,'random_state':rs}\n",
    "\n",
    "regressor = GridSearchCV(estimator=Ridge(), param_grid=kwargs, n_jobs=-1)  ## 參數：cv=n n則交叉驗證\n",
    "%time model_Ridge = regressor.fit(train_x2,train_y2)"
   ]
  },
  {
   "cell_type": "code",
   "execution_count": 156,
   "metadata": {},
   "outputs": [
    {
     "data": {
      "text/plain": [
       "0.8625262258617415"
      ]
     },
     "execution_count": 156,
     "metadata": {},
     "output_type": "execute_result"
    }
   ],
   "source": [
    "# 預測\n",
    "from sklearn.metrics import r2_score\n",
    "pred_y2 = model_Ridge.predict(test_x2)\n",
    "r2_score(test_y2,pred_y2)"
   ]
  },
  {
   "cell_type": "markdown",
   "metadata": {},
   "source": [
    "# Scikit-learn: Lasso Regression"
   ]
  },
  {
   "cell_type": "code",
   "execution_count": 157,
   "metadata": {},
   "outputs": [
    {
     "name": "stdout",
     "output_type": "stream",
     "text": [
      "CPU times: user 35.2 s, sys: 12.6 ms, total: 35.2 s\n",
      "Wall time: 35.9 s\n"
     ]
    }
   ],
   "source": [
    "# 建模\n",
    "from sklearn.linear_model import Lasso\n",
    "\n",
    "regressor = Lasso(max_iter=1000000)\n",
    "%time model_Lasso = regressor.fit(train_x2,train_y2)"
   ]
  },
  {
   "cell_type": "code",
   "execution_count": 158,
   "metadata": {},
   "outputs": [
    {
     "data": {
      "text/plain": [
       "0.8207721738756675"
      ]
     },
     "execution_count": 158,
     "metadata": {},
     "output_type": "execute_result"
    }
   ],
   "source": [
    "# 預測\n",
    "#from sklearn.metrics import r2_score\n",
    "pred_y2 = model_Lasso.predict(test_x2)\n",
    "r2_score(test_y2,pred_y2)"
   ]
  },
  {
   "cell_type": "code",
   "execution_count": null,
   "metadata": {},
   "outputs": [],
   "source": [
    "# 建模 & 自動調參\n",
    "from sklearn.linear_model import Lasso\n",
    "from sklearn.model_selection import GridSearchCV, cross_val_score\n",
    "\n",
    "al=[0.1,0.5,1.0]\n",
    "rs=[None,0,1]\n",
    "max_i=[1000000]\n",
    "kwargs={'alpha':al,'max_iter':max_i,'random_state':rs}\n",
    "\n",
    "regressor = GridSearchCV(estimator=Lasso(), param_grid=kwargs, n_jobs=-1)  ## 參數：cv=n n則交叉驗證\n",
    "%time model_Lasso = regressor.fit(train_x2,train_y2)"
   ]
  },
  {
   "cell_type": "code",
   "execution_count": null,
   "metadata": {},
   "outputs": [],
   "source": [
    "# 預測\n",
    "#from sklearn.metrics import r2_score\n",
    "pred_y2 = model_Lasso.predict(test_x2)\n",
    "r2_score(test_y2,pred_y2)"
   ]
  },
  {
   "cell_type": "markdown",
   "metadata": {},
   "source": [
    "# Scikit-learn: Elastic Net Regression"
   ]
  },
  {
   "cell_type": "code",
   "execution_count": 159,
   "metadata": {},
   "outputs": [
    {
     "name": "stdout",
     "output_type": "stream",
     "text": [
      "CPU times: user 1min 20s, sys: 33.5 ms, total: 1min 20s\n",
      "Wall time: 1min 22s\n"
     ]
    }
   ],
   "source": [
    "# 建模\n",
    "from sklearn.linear_model import ElasticNet\n",
    "regressor = ElasticNet(max_iter=1000000)\n",
    "%time model_ElasticNet = regressor.fit(train_x2,train_y2)"
   ]
  },
  {
   "cell_type": "code",
   "execution_count": 160,
   "metadata": {},
   "outputs": [
    {
     "data": {
      "text/plain": [
       "0.8478722311269774"
      ]
     },
     "execution_count": 160,
     "metadata": {},
     "output_type": "execute_result"
    }
   ],
   "source": [
    "# 預測\n",
    "#from sklearn.metrics import r2_score\n",
    "pred_y2 = model_ElasticNet.predict(test_x2)\n",
    "r2_score(test_y2,pred_y2)"
   ]
  },
  {
   "cell_type": "code",
   "execution_count": null,
   "metadata": {},
   "outputs": [],
   "source": [
    "# 建模 & 自動調參\n",
    "#####    吃資源  慎用\n",
    "from sklearn.linear_model import ElasticNet\n",
    "from sklearn.model_selection import GridSearchCV, cross_val_score\n",
    "\n",
    "al=[0.1,0.5,1.0]\n",
    "l1=[0,0.5,1.0]\n",
    "rs=[None,0,3]\n",
    "max_i=[1000000]\n",
    "kwargs={'alpha':al,'l1_ratio':l1,'max_iter':max_i,'random_state':rs}\n",
    "\n",
    "regressor = GridSearchCV(estimator=ElasticNet(), param_grid=kwargs, n_jobs=-1)  ## 參數：cv=n n則交叉驗證\n",
    "%time model_ElasticNet = regressor.fit(train_x2,train_y2)"
   ]
  },
  {
   "cell_type": "code",
   "execution_count": null,
   "metadata": {},
   "outputs": [],
   "source": [
    "# 預測\n",
    "#from sklearn.metrics import r2_score\n",
    "pred_y = model_ElasticNet.predict(test_x2)\n",
    "r2_score(test_y2,pred_y2)"
   ]
  },
  {
   "cell_type": "markdown",
   "metadata": {},
   "source": [
    "# Scikit-learn: 樹演算法"
   ]
  },
  {
   "cell_type": "code",
   "execution_count": 183,
   "metadata": {},
   "outputs": [
    {
     "name": "stdout",
     "output_type": "stream",
     "text": [
      "CPU times: user 10.7 ms, sys: 3.94 ms, total: 14.7 ms\n",
      "Wall time: 17.7 ms\n"
     ]
    }
   ],
   "source": [
    "# 建模\n",
    "from sklearn.tree import DecisionTreeRegressor\n",
    "\n",
    "regressor = DecisionTreeRegressor(splitter='random',                       # 預設為'best'  #random\n",
    "                                   max_depth=12,                     # 樹的深度\n",
    "                                   #min_samples_split=2,             # 分解節點時，最少樣本數 \n",
    "                                   #min_samples_leaf=1,              # 每個節點最少樣本數\n",
    "                                   #min_weight_fraction_leaf=0.0, # 每個樣本的權重\n",
    "                                   #max_features=None,             \n",
    "                                   random_state=2,\n",
    "                                   #max_leaf_nodes=None,           # 以雜質相對少的方式種樹，None代表無限制\n",
    "                                   #min_impurity_decrease=0.0,      # 如果分裂將使雜質減少，則分裂節點\n",
    "                                   #min_impurity_split=None,          # 樹木早期生長的門檻 以前一個參數為主\n",
    "                                   presort=False)                         # 是否預先分配數據，加快最佳分裂的發現\n",
    "%time model_DTR = regressor.fit(train_x2,train_y2)"
   ]
  },
  {
   "cell_type": "code",
   "execution_count": 184,
   "metadata": {},
   "outputs": [
    {
     "data": {
      "text/plain": [
       "0.7440321399844778"
      ]
     },
     "execution_count": 184,
     "metadata": {},
     "output_type": "execute_result"
    }
   ],
   "source": [
    "# 預測\n",
    "#from sklearn.metrics import r2_score\n",
    "pred_y2 = model_DTR.predict(test_x2)\n",
    "r2_score(test_y2,pred_y2)"
   ]
  },
  {
   "cell_type": "code",
   "execution_count": null,
   "metadata": {},
   "outputs": [],
   "source": [
    "# 建模 & 自動調參\n",
    "from sklearn.tree import DecisionTreeClassifier\n",
    "from sklearn.model_selection import GridSearchCV, cross_val_score\n",
    "\n",
    "crit=['entropy']\n",
    "spli=['best']\n",
    "m_dep=[5,10,15]\n",
    "rs=[None,0,1,3]\n",
    "cl=[None,'balanced']\n",
    "kwargs={'criterion':crit,'splitter':spli,'max_depth':m_dep,'random_state':rs,'class_weight':cl}\n",
    "\n",
    "regressor = GridSearchCV(estimator=DecisionTreeClassifier(), param_grid=kwargs, n_jobs=-1)  ## 參數：cv=n n則交叉驗證\n",
    "%time model_DTC = regressor.fit(train_x2,train_y2)"
   ]
  },
  {
   "cell_type": "code",
   "execution_count": null,
   "metadata": {},
   "outputs": [],
   "source": [
    "# 預測\n",
    "#from sklearn.metrics import r2_score\n",
    "pred_y2 = model_DTC.predict(test_x2)\n",
    "r2_score(test_y2,pred_y2)"
   ]
  },
  {
   "cell_type": "code",
   "execution_count": null,
   "metadata": {
    "scrolled": true
   },
   "outputs": [],
   "source": [
    "# 觀察屬性值重要性，值越大越重要\n",
    "print(model_DTC.feature_importances_)"
   ]
  },
  {
   "cell_type": "markdown",
   "metadata": {},
   "source": [
    "# Random Forest regression 隨機森林"
   ]
  },
  {
   "cell_type": "code",
   "execution_count": 225,
   "metadata": {},
   "outputs": [
    {
     "name": "stdout",
     "output_type": "stream",
     "text": [
      "CPU times: user 5.4 s, sys: 3.8 ms, total: 5.4 s\n",
      "Wall time: 5.59 s\n"
     ]
    }
   ],
   "source": [
    "# 建模\n",
    "from sklearn.ensemble import RandomForestRegressor\n",
    "\n",
    "regressor = RandomForestRegressor(n_estimators=300,    # 樹的數量\n",
    "                                   criterion='mae',                       # 預設為'mse'  'mae'\n",
    "                                   #max_depth=None,                   # 預設為None 無限制\n",
    "                                   #min_samples_split=2,\n",
    "                                   #min_samples_leaf=1,\n",
    "                                   #min_weight_fraction_leaf=0.0,\n",
    "                                   max_features='sqrt',                 # 尋找最佳分割所考慮的功能 'auto' 'sqrt' 'log2' 'None' int float\n",
    "                                   #max_leaf_nodes=None,\n",
    "                                   #min_impurity_decrease=0.0,\n",
    "                                   #min_impurity_split=None,\n",
    "                                   bootstrap=True,                      # 種樹時是否使用 bootstrap 的樣本\n",
    "                                   oob_score=True,\n",
    "                                   n_jobs=-1,                               # 最大工作數 -1代表使用全部的處理器\n",
    "                                   random_state=2)\n",
    "                                   #verbose=0,                              # 在擬合和預設時顯示控制詳細程度 (只是顯示步驟而已 對預測確率沒幫助)\n",
    "                                   #warm_start=False)                   # 設為True時，是以補充隨機森林模型的方式運算\n",
    "                                   #class_weight=None)                 # 'None' 'balanced' 'balanced_subsample'\n",
    "%time model_RFR = regressor.fit(train_x2,train_y2)"
   ]
  },
  {
   "cell_type": "code",
   "execution_count": 226,
   "metadata": {},
   "outputs": [
    {
     "data": {
      "text/plain": [
       "0.8730439150781559"
      ]
     },
     "execution_count": 226,
     "metadata": {},
     "output_type": "execute_result"
    }
   ],
   "source": [
    "# 預測\n",
    "model_RFR.oob_score_"
   ]
  },
  {
   "cell_type": "code",
   "execution_count": null,
   "metadata": {},
   "outputs": [],
   "source": [
    "# 建模 & 自動調參\n",
    "from sklearn.ensemble import RandomForestClassifier\n",
    "from sklearn.model_selection import GridSearchCV, cross_val_score\n",
    "\n",
    "n=[100,150,200]\n",
    "crit=['gini','entropy']\n",
    "boo=[True,False]\n",
    "rs=[None,0,1,3]\n",
    "kwargs={'n_estimators':n,'criterion':crit,'bootstrap':boo,'random_state':rs}\n",
    "\n",
    "regressor = GridSearchCV(estimator=RandomForestClassifier(), param_grid=kwargs, n_jobs=-1)  ## 參數：cv=n n則交叉驗證\n",
    "%time model_RFC = regressor.fit(train_x2,train_y2)"
   ]
  },
  {
   "cell_type": "code",
   "execution_count": null,
   "metadata": {},
   "outputs": [],
   "source": [
    "# 預測\n",
    "#from sklearn.metrics import r2_score\n",
    "pred_y2 = model_RFC.predict(test_x2)\n",
    "%time r2_score(test_y2,pred_y2)"
   ]
  },
  {
   "cell_type": "markdown",
   "metadata": {},
   "source": [
    "# XGBoosting"
   ]
  },
  {
   "cell_type": "code",
   "execution_count": 232,
   "metadata": {},
   "outputs": [
    {
     "name": "stdout",
     "output_type": "stream",
     "text": [
      "Fitting 5 folds for each of 5 candidates, totalling 25 fits\n"
     ]
    },
    {
     "name": "stderr",
     "output_type": "stream",
     "text": [
      "[Parallel(n_jobs=-1)]: Done  25 out of  25 | elapsed:    6.8s finished\n"
     ]
    },
    {
     "name": "stdout",
     "output_type": "stream",
     "text": [
      "each round result:[mean: 0.89114, std: 0.02616, params: {'learning_rate': 0.1}, mean: 0.89267, std: 0.02833, params: {'learning_rate': 0.15}, mean: 0.87565, std: 0.02519, params: {'learning_rate': 0.2}, mean: 0.86902, std: 0.02310, params: {'learning_rate': 0.25}, mean: 0.85547, std: 0.02711, params: {'learning_rate': 0.3}]\n",
      "best params:{'learning_rate': 0.15}\n",
      "best model score:0.8926711634146819\n",
      "CPU times: user 6.98 s, sys: 7.78 ms, total: 6.98 s\n",
      "Wall time: 7.14 s\n"
     ]
    },
    {
     "name": "stderr",
     "output_type": "stream",
     "text": [
      "/opt/anaconda3/lib/python3.7/site-packages/sklearn/model_selection/_search.py:762: DeprecationWarning: The grid_scores_ attribute was deprecated in version 0.18 in favor of the more elaborate cv_results_ attribute. The grid_scores_ attribute will not be available from 0.20\n",
      "  DeprecationWarning)\n"
     ]
    }
   ],
   "source": [
    "%%time\n",
    "from sklearn.model_selection import GridSearchCV, cross_val_score\n",
    "\n",
    "#cv_params = {'n_estimators':[100,150,50,30]}\n",
    "#cv_params = {'max_depth':range(4,9),'min_child_weight':range(1,6)}\n",
    "#cv_params = {'gamma':[0,0.1,0.2,0.3,0.4,0.5]}\n",
    "#cv_params = {'subsample':[0.6,0.7,0.4,0.5],'colsample_bytree':[0.6,0.7,0.4,0.5]}\n",
    "#cv_params = {'reg_alpha':[0,0.05,0.1,1,2,3],'reg_lambda':[0,0.05,0.1,1,2,3]}\n",
    "#cv_params = {'learning_rate':[0.1,0.15,0.2,0.25,0.3]}\n",
    "other_params = {'learning_rate':0.15,'n_estimators':100,'max_depth':5,'min_child_weight':4,'seed':0,\n",
    "              'subsample':0.6,'colsample_bytree':0.6,'gamma':0,'reg_alpha':2,'reg_lambda':0}\n",
    "\n",
    "model_xgboost = xgb.XGBRegressor(**other_params)\n",
    "optimized_GBM = GridSearchCV(estimator = model_xgboost, param_grid=cv_params, scoring='r2', cv=5, verbose=1, n_jobs=-1)\n",
    "optimized_GBM.fit(train_x2,train_y2)\n",
    "evalute_result = optimized_GBM.grid_scores_\n",
    "print('each round result:{0}'.format(evalute_result))\n",
    "print('best params:{0}'.format(optimized_GBM.best_params_))\n",
    "print('best model score:{0}'.format(optimized_GBM.best_score_))"
   ]
  },
  {
   "cell_type": "code",
   "execution_count": 277,
   "metadata": {},
   "outputs": [
    {
     "name": "stdout",
     "output_type": "stream",
     "text": [
      "Mean Absolute Error : 16638.035671657984\n",
      "CPU times: user 325 ms, sys: 33 µs, total: 325 ms\n",
      "Wall time: 334 ms\n"
     ]
    }
   ],
   "source": [
    "%%time\n",
    "other_params = {'learning_rate':0.15,'n_estimators':100,'max_depth':5,'min_child_weight':4,'seed':0,\n",
    "              'subsample':0.6,'colsample_bytree':0.6,'gamma':0,'reg_alpha':2,'reg_lambda':0}\n",
    "\n",
    "model_xgboost = xgb.XGBRegressor(**other_params)\n",
    "model_xgboost.fit(train_x2,train_y2, verbose=False)\n",
    "\n",
    "predictions = model_xgboost.predict(test_x2)\n",
    "from sklearn.metrics import mean_absolute_error\n",
    "print(\"Mean Absolute Error : \" + str(mean_absolute_error(predictions, test_y2)))"
   ]
  },
  {
   "cell_type": "markdown",
   "metadata": {},
   "source": [
    "# PCA降維後再做XGBoost"
   ]
  },
  {
   "cell_type": "code",
   "execution_count": 236,
   "metadata": {},
   "outputs": [],
   "source": [
    "from sklearn.decomposition import PCA"
   ]
  },
  {
   "cell_type": "code",
   "execution_count": 239,
   "metadata": {},
   "outputs": [
    {
     "name": "stdout",
     "output_type": "stream",
     "text": [
      "CPU times: user 17.7 s, sys: 126 ms, total: 17.8 s\n",
      "Wall time: 18.4 s\n"
     ]
    }
   ],
   "source": [
    "%%time\n",
    "comp=range(90,124)\n",
    "res=[]\n",
    "for c in comp:\n",
    "    pca = PCA(n_components=c)  # 模型會把資料投影至一個方向\n",
    "    pca = pca.fit(x)  # fit資料，模型會根據資料特性，來找出恰當的方向向量\n",
    "    unit_vec = pca.components_  # 找到方向向量\n",
    "    reduced_df = pca.transform(x)\n",
    "    train_x_PCA, test_x_PCA, train_y_PCA, test_y_PCA = train_test_split(reduced_df, y, test_size=0.2)\n",
    "    \n",
    "    # 給予模型參數，告知演算法該如何訓練模型\n",
    "    other_params = {'learning_rate':0.15,'n_estimators':100,'max_depth':5,'min_child_weight':4,'seed':0,\n",
    "              'subsample':0.6,'colsample_bytree':0.6,'gamma':0,'reg_alpha':2,'reg_lambda':0}\n",
    "    model_xgboost = xgb.XGBRegressor(**other_params)\n",
    "    model_xgboost.fit(train_x_PCA,train_y_PCA)\n",
    "    pred_y_PCA = model_xgboost.predict(test_x_PCA)\n",
    "    r2 = r2_score(test_y_PCA,pred_y_PCA)\n",
    "    res.append((c, r2 , model_xgboost))"
   ]
  },
  {
   "cell_type": "code",
   "execution_count": 240,
   "metadata": {},
   "outputs": [
    {
     "data": {
      "text/html": [
       "<div>\n",
       "<style scoped>\n",
       "    .dataframe tbody tr th:only-of-type {\n",
       "        vertical-align: middle;\n",
       "    }\n",
       "\n",
       "    .dataframe tbody tr th {\n",
       "        vertical-align: top;\n",
       "    }\n",
       "\n",
       "    .dataframe thead th {\n",
       "        text-align: right;\n",
       "    }\n",
       "</style>\n",
       "<table border=\"1\" class=\"dataframe\">\n",
       "  <thead>\n",
       "    <tr style=\"text-align: right;\">\n",
       "      <th></th>\n",
       "      <th>n_components</th>\n",
       "      <th>r2_score</th>\n",
       "      <th>model</th>\n",
       "    </tr>\n",
       "  </thead>\n",
       "  <tbody>\n",
       "    <tr>\n",
       "      <th>0</th>\n",
       "      <td>90</td>\n",
       "      <td>0.657480</td>\n",
       "      <td>XGBRegressor(base_score=0.5, booster='gbtree',...</td>\n",
       "    </tr>\n",
       "    <tr>\n",
       "      <th>1</th>\n",
       "      <td>91</td>\n",
       "      <td>0.811253</td>\n",
       "      <td>XGBRegressor(base_score=0.5, booster='gbtree',...</td>\n",
       "    </tr>\n",
       "    <tr>\n",
       "      <th>2</th>\n",
       "      <td>92</td>\n",
       "      <td>0.869433</td>\n",
       "      <td>XGBRegressor(base_score=0.5, booster='gbtree',...</td>\n",
       "    </tr>\n",
       "    <tr>\n",
       "      <th>3</th>\n",
       "      <td>93</td>\n",
       "      <td>0.781639</td>\n",
       "      <td>XGBRegressor(base_score=0.5, booster='gbtree',...</td>\n",
       "    </tr>\n",
       "    <tr>\n",
       "      <th>4</th>\n",
       "      <td>94</td>\n",
       "      <td>0.796437</td>\n",
       "      <td>XGBRegressor(base_score=0.5, booster='gbtree',...</td>\n",
       "    </tr>\n",
       "    <tr>\n",
       "      <th>5</th>\n",
       "      <td>95</td>\n",
       "      <td>0.771405</td>\n",
       "      <td>XGBRegressor(base_score=0.5, booster='gbtree',...</td>\n",
       "    </tr>\n",
       "    <tr>\n",
       "      <th>6</th>\n",
       "      <td>96</td>\n",
       "      <td>0.863090</td>\n",
       "      <td>XGBRegressor(base_score=0.5, booster='gbtree',...</td>\n",
       "    </tr>\n",
       "    <tr>\n",
       "      <th>7</th>\n",
       "      <td>97</td>\n",
       "      <td>0.769516</td>\n",
       "      <td>XGBRegressor(base_score=0.5, booster='gbtree',...</td>\n",
       "    </tr>\n",
       "    <tr>\n",
       "      <th>8</th>\n",
       "      <td>98</td>\n",
       "      <td>0.772318</td>\n",
       "      <td>XGBRegressor(base_score=0.5, booster='gbtree',...</td>\n",
       "    </tr>\n",
       "    <tr>\n",
       "      <th>9</th>\n",
       "      <td>99</td>\n",
       "      <td>0.767783</td>\n",
       "      <td>XGBRegressor(base_score=0.5, booster='gbtree',...</td>\n",
       "    </tr>\n",
       "    <tr>\n",
       "      <th>10</th>\n",
       "      <td>100</td>\n",
       "      <td>0.767715</td>\n",
       "      <td>XGBRegressor(base_score=0.5, booster='gbtree',...</td>\n",
       "    </tr>\n",
       "    <tr>\n",
       "      <th>11</th>\n",
       "      <td>101</td>\n",
       "      <td>0.873386</td>\n",
       "      <td>XGBRegressor(base_score=0.5, booster='gbtree',...</td>\n",
       "    </tr>\n",
       "    <tr>\n",
       "      <th>12</th>\n",
       "      <td>102</td>\n",
       "      <td>0.824666</td>\n",
       "      <td>XGBRegressor(base_score=0.5, booster='gbtree',...</td>\n",
       "    </tr>\n",
       "    <tr>\n",
       "      <th>13</th>\n",
       "      <td>103</td>\n",
       "      <td>0.850653</td>\n",
       "      <td>XGBRegressor(base_score=0.5, booster='gbtree',...</td>\n",
       "    </tr>\n",
       "    <tr>\n",
       "      <th>14</th>\n",
       "      <td>104</td>\n",
       "      <td>0.878723</td>\n",
       "      <td>XGBRegressor(base_score=0.5, booster='gbtree',...</td>\n",
       "    </tr>\n",
       "    <tr>\n",
       "      <th>15</th>\n",
       "      <td>105</td>\n",
       "      <td>0.836477</td>\n",
       "      <td>XGBRegressor(base_score=0.5, booster='gbtree',...</td>\n",
       "    </tr>\n",
       "    <tr>\n",
       "      <th>16</th>\n",
       "      <td>106</td>\n",
       "      <td>0.842276</td>\n",
       "      <td>XGBRegressor(base_score=0.5, booster='gbtree',...</td>\n",
       "    </tr>\n",
       "    <tr>\n",
       "      <th>17</th>\n",
       "      <td>107</td>\n",
       "      <td>0.744638</td>\n",
       "      <td>XGBRegressor(base_score=0.5, booster='gbtree',...</td>\n",
       "    </tr>\n",
       "    <tr>\n",
       "      <th>18</th>\n",
       "      <td>108</td>\n",
       "      <td>0.772075</td>\n",
       "      <td>XGBRegressor(base_score=0.5, booster='gbtree',...</td>\n",
       "    </tr>\n",
       "    <tr>\n",
       "      <th>19</th>\n",
       "      <td>109</td>\n",
       "      <td>0.875602</td>\n",
       "      <td>XGBRegressor(base_score=0.5, booster='gbtree',...</td>\n",
       "    </tr>\n",
       "    <tr>\n",
       "      <th>20</th>\n",
       "      <td>110</td>\n",
       "      <td>0.853514</td>\n",
       "      <td>XGBRegressor(base_score=0.5, booster='gbtree',...</td>\n",
       "    </tr>\n",
       "    <tr>\n",
       "      <th>21</th>\n",
       "      <td>111</td>\n",
       "      <td>0.880203</td>\n",
       "      <td>XGBRegressor(base_score=0.5, booster='gbtree',...</td>\n",
       "    </tr>\n",
       "    <tr>\n",
       "      <th>22</th>\n",
       "      <td>112</td>\n",
       "      <td>0.765873</td>\n",
       "      <td>XGBRegressor(base_score=0.5, booster='gbtree',...</td>\n",
       "    </tr>\n",
       "    <tr>\n",
       "      <th>23</th>\n",
       "      <td>113</td>\n",
       "      <td>0.792954</td>\n",
       "      <td>XGBRegressor(base_score=0.5, booster='gbtree',...</td>\n",
       "    </tr>\n",
       "    <tr>\n",
       "      <th>24</th>\n",
       "      <td>114</td>\n",
       "      <td>0.841320</td>\n",
       "      <td>XGBRegressor(base_score=0.5, booster='gbtree',...</td>\n",
       "    </tr>\n",
       "    <tr>\n",
       "      <th>25</th>\n",
       "      <td>115</td>\n",
       "      <td>0.798816</td>\n",
       "      <td>XGBRegressor(base_score=0.5, booster='gbtree',...</td>\n",
       "    </tr>\n",
       "    <tr>\n",
       "      <th>26</th>\n",
       "      <td>116</td>\n",
       "      <td>0.825761</td>\n",
       "      <td>XGBRegressor(base_score=0.5, booster='gbtree',...</td>\n",
       "    </tr>\n",
       "    <tr>\n",
       "      <th>27</th>\n",
       "      <td>117</td>\n",
       "      <td>0.794908</td>\n",
       "      <td>XGBRegressor(base_score=0.5, booster='gbtree',...</td>\n",
       "    </tr>\n",
       "    <tr>\n",
       "      <th>28</th>\n",
       "      <td>118</td>\n",
       "      <td>0.775683</td>\n",
       "      <td>XGBRegressor(base_score=0.5, booster='gbtree',...</td>\n",
       "    </tr>\n",
       "    <tr>\n",
       "      <th>29</th>\n",
       "      <td>119</td>\n",
       "      <td>0.869237</td>\n",
       "      <td>XGBRegressor(base_score=0.5, booster='gbtree',...</td>\n",
       "    </tr>\n",
       "    <tr>\n",
       "      <th>30</th>\n",
       "      <td>120</td>\n",
       "      <td>0.829793</td>\n",
       "      <td>XGBRegressor(base_score=0.5, booster='gbtree',...</td>\n",
       "    </tr>\n",
       "    <tr>\n",
       "      <th>31</th>\n",
       "      <td>121</td>\n",
       "      <td>0.856571</td>\n",
       "      <td>XGBRegressor(base_score=0.5, booster='gbtree',...</td>\n",
       "    </tr>\n",
       "    <tr>\n",
       "      <th>32</th>\n",
       "      <td>122</td>\n",
       "      <td>0.804509</td>\n",
       "      <td>XGBRegressor(base_score=0.5, booster='gbtree',...</td>\n",
       "    </tr>\n",
       "    <tr>\n",
       "      <th>33</th>\n",
       "      <td>123</td>\n",
       "      <td>0.753063</td>\n",
       "      <td>XGBRegressor(base_score=0.5, booster='gbtree',...</td>\n",
       "    </tr>\n",
       "  </tbody>\n",
       "</table>\n",
       "</div>"
      ],
      "text/plain": [
       "    n_components  r2_score                                              model\n",
       "0             90  0.657480  XGBRegressor(base_score=0.5, booster='gbtree',...\n",
       "1             91  0.811253  XGBRegressor(base_score=0.5, booster='gbtree',...\n",
       "2             92  0.869433  XGBRegressor(base_score=0.5, booster='gbtree',...\n",
       "3             93  0.781639  XGBRegressor(base_score=0.5, booster='gbtree',...\n",
       "4             94  0.796437  XGBRegressor(base_score=0.5, booster='gbtree',...\n",
       "5             95  0.771405  XGBRegressor(base_score=0.5, booster='gbtree',...\n",
       "6             96  0.863090  XGBRegressor(base_score=0.5, booster='gbtree',...\n",
       "7             97  0.769516  XGBRegressor(base_score=0.5, booster='gbtree',...\n",
       "8             98  0.772318  XGBRegressor(base_score=0.5, booster='gbtree',...\n",
       "9             99  0.767783  XGBRegressor(base_score=0.5, booster='gbtree',...\n",
       "10           100  0.767715  XGBRegressor(base_score=0.5, booster='gbtree',...\n",
       "11           101  0.873386  XGBRegressor(base_score=0.5, booster='gbtree',...\n",
       "12           102  0.824666  XGBRegressor(base_score=0.5, booster='gbtree',...\n",
       "13           103  0.850653  XGBRegressor(base_score=0.5, booster='gbtree',...\n",
       "14           104  0.878723  XGBRegressor(base_score=0.5, booster='gbtree',...\n",
       "15           105  0.836477  XGBRegressor(base_score=0.5, booster='gbtree',...\n",
       "16           106  0.842276  XGBRegressor(base_score=0.5, booster='gbtree',...\n",
       "17           107  0.744638  XGBRegressor(base_score=0.5, booster='gbtree',...\n",
       "18           108  0.772075  XGBRegressor(base_score=0.5, booster='gbtree',...\n",
       "19           109  0.875602  XGBRegressor(base_score=0.5, booster='gbtree',...\n",
       "20           110  0.853514  XGBRegressor(base_score=0.5, booster='gbtree',...\n",
       "21           111  0.880203  XGBRegressor(base_score=0.5, booster='gbtree',...\n",
       "22           112  0.765873  XGBRegressor(base_score=0.5, booster='gbtree',...\n",
       "23           113  0.792954  XGBRegressor(base_score=0.5, booster='gbtree',...\n",
       "24           114  0.841320  XGBRegressor(base_score=0.5, booster='gbtree',...\n",
       "25           115  0.798816  XGBRegressor(base_score=0.5, booster='gbtree',...\n",
       "26           116  0.825761  XGBRegressor(base_score=0.5, booster='gbtree',...\n",
       "27           117  0.794908  XGBRegressor(base_score=0.5, booster='gbtree',...\n",
       "28           118  0.775683  XGBRegressor(base_score=0.5, booster='gbtree',...\n",
       "29           119  0.869237  XGBRegressor(base_score=0.5, booster='gbtree',...\n",
       "30           120  0.829793  XGBRegressor(base_score=0.5, booster='gbtree',...\n",
       "31           121  0.856571  XGBRegressor(base_score=0.5, booster='gbtree',...\n",
       "32           122  0.804509  XGBRegressor(base_score=0.5, booster='gbtree',...\n",
       "33           123  0.753063  XGBRegressor(base_score=0.5, booster='gbtree',..."
      ]
     },
     "execution_count": 240,
     "metadata": {},
     "output_type": "execute_result"
    }
   ],
   "source": [
    "df_res = pd.DataFrame(res, columns=['n_components','r2_score','model'])\n",
    "df_res"
   ]
  },
  {
   "cell_type": "code",
   "execution_count": 241,
   "metadata": {},
   "outputs": [],
   "source": [
    "pca = PCA(n_components=111)  # 模型會把資料投影至一個方向\n",
    "pca = pca.fit(x)  # fit資料，模型會根據資料特性，來找出恰當的方向向量\n",
    "unit_vec = pca.components_  # 找到方向向量\n",
    "reduced_df = pca.transform(x) # 將資料投影到找出來的方向向量上\n",
    "# reduced_df即為降維後的資料"
   ]
  },
  {
   "cell_type": "code",
   "execution_count": 242,
   "metadata": {},
   "outputs": [],
   "source": [
    "train_x_PCA, test_x_PCA, train_y_PCA, test_y_PCA = train_test_split(reduced_df, y, test_size=0.2)\n",
    "# 給予模型參數，告知演算法該如何訓練模型\n",
    "other_params = {'learning_rate':0.15,'n_estimators':100,'max_depth':5,'min_child_weight':4,'seed':0,\n",
    "          'subsample':0.6,'colsample_bytree':0.6,'gamma':0,'reg_alpha':2,'reg_lambda':0}\n",
    "model_xgboost = xgb.XGBRegressor(**other_params)\n",
    "model_xgboost.fit(train_x_PCA,train_y_PCA)\n",
    "pred_y_PCA = model_xgboost.predict(test_x_PCA)\n",
    "r2 = r2_score(test_y_PCA,pred_y_PCA)\n",
    "res.append((c, r2 , model_xgboost))"
   ]
  },
  {
   "cell_type": "markdown",
   "metadata": {},
   "source": [
    "# test.csv資料預測"
   ]
  },
  {
   "cell_type": "code",
   "execution_count": 243,
   "metadata": {},
   "outputs": [
    {
     "data": {
      "text/plain": [
       "0       1961.0\n",
       "1       1958.0\n",
       "2       1997.0\n",
       "3       1998.0\n",
       "4       1992.0\n",
       "5       1993.0\n",
       "6       1992.0\n",
       "7       1998.0\n",
       "8       1990.0\n",
       "9       1970.0\n",
       "10      1999.0\n",
       "11      1971.0\n",
       "12      1997.0\n",
       "13      1975.0\n",
       "14      1975.0\n",
       "15      2009.0\n",
       "16      2009.0\n",
       "17      2005.0\n",
       "18      2005.0\n",
       "19      2003.0\n",
       "20      2002.0\n",
       "21      2006.0\n",
       "22      2005.0\n",
       "23      2006.0\n",
       "24      2004.0\n",
       "25      2004.0\n",
       "26      1998.0\n",
       "27      2005.0\n",
       "28      2009.0\n",
       "29      2005.0\n",
       "         ...  \n",
       "1429    1925.0\n",
       "1430    1957.0\n",
       "1431       0.0\n",
       "1432       0.0\n",
       "1433       0.0\n",
       "1434    2005.0\n",
       "1435    2004.0\n",
       "1436    1979.0\n",
       "1437    1978.0\n",
       "1438    2001.0\n",
       "1439    1975.0\n",
       "1440    1958.0\n",
       "1441    2000.0\n",
       "1442    2005.0\n",
       "1443    2005.0\n",
       "1444    1951.0\n",
       "1445    1997.0\n",
       "1446    1977.0\n",
       "1447    1968.0\n",
       "1448    1970.0\n",
       "1449       0.0\n",
       "1450    1972.0\n",
       "1451    1969.0\n",
       "1452    1970.0\n",
       "1453       0.0\n",
       "1454       0.0\n",
       "1455    1970.0\n",
       "1456    1960.0\n",
       "1457       0.0\n",
       "1458    1993.0\n",
       "Name: GarageYrBlt, Length: 1459, dtype: float64"
      ]
     },
     "execution_count": 243,
     "metadata": {},
     "output_type": "execute_result"
    }
   ],
   "source": [
    "dfTest[\"GarageYrBlt\"] = dfTest[\"GarageYrBlt\"].astype(float)\n",
    "dfTest[\"MSSubClass\"] = dfTest[\"MSSubClass\"].astype(float)\n",
    "dfTest[\"GarageYrBlt\"]"
   ]
  },
  {
   "cell_type": "code",
   "execution_count": 297,
   "metadata": {},
   "outputs": [
    {
     "data": {
      "text/plain": [
       "array([[5.000e+00, 8.960e+02, 0.000e+00, ..., 0.000e+00, 0.000e+00,\n",
       "        0.000e+00],\n",
       "       [6.000e+00, 1.329e+03, 0.000e+00, ..., 1.000e+00, 0.000e+00,\n",
       "        0.000e+00],\n",
       "       [5.000e+00, 1.629e+03, 7.010e+02, ..., 0.000e+00, 0.000e+00,\n",
       "        0.000e+00],\n",
       "       ...,\n",
       "       [5.000e+00, 1.224e+03, 0.000e+00, ..., 0.000e+00, 0.000e+00,\n",
       "        0.000e+00],\n",
       "       [5.000e+00, 9.700e+02, 0.000e+00, ..., 0.000e+00, 0.000e+00,\n",
       "        0.000e+00],\n",
       "       [7.000e+00, 2.000e+03, 1.004e+03, ..., 0.000e+00, 0.000e+00,\n",
       "        0.000e+00]])"
      ]
     },
     "execution_count": 297,
     "metadata": {},
     "output_type": "execute_result"
    }
   ],
   "source": [
    "dfTest2 = dfTest.values\n",
    "dfTest2"
   ]
  },
  {
   "cell_type": "code",
   "execution_count": 299,
   "metadata": {},
   "outputs": [
    {
     "data": {
      "text/plain": [
       "array([132243.12 , 157563.7  , 182543.2  , ..., 148704.03 , 117004.945,\n",
       "       217191.5  ], dtype=float32)"
      ]
     },
     "execution_count": 299,
     "metadata": {},
     "output_type": "execute_result"
    }
   ],
   "source": [
    "### XGBoost\n",
    "pred_xgboost = model_xgboost.predict(dfTest2)\n",
    "pred_xgboost\n",
    "#test_probs = gbm.predict(xgb.DMatrix(test_feature))"
   ]
  },
  {
   "cell_type": "code",
   "execution_count": 254,
   "metadata": {},
   "outputs": [
    {
     "data": {
      "text/plain": [
       "array([101301.64712109, 156008.43071347, 165033.25229118, ...,\n",
       "       165558.30183397, 104200.62433392, 220917.40882966])"
      ]
     },
     "execution_count": 254,
     "metadata": {},
     "output_type": "execute_result"
    }
   ],
   "source": [
    "# Ridge regression\n",
    "pred_Ridge = model_Ridge.predict(dfTest)\n",
    "pred_Ridge"
   ]
  },
  {
   "cell_type": "code",
   "execution_count": 255,
   "metadata": {},
   "outputs": [
    {
     "data": {
      "text/plain": [
       "array([101338.9868794 , 155913.00203476, 165912.0312276 , ...,\n",
       "       165569.19645842, 105555.36176723, 219642.05192999])"
      ]
     },
     "execution_count": 255,
     "metadata": {},
     "output_type": "execute_result"
    }
   ],
   "source": [
    "# Lasso regression\n",
    "pred_Lasso = model_Lasso.predict(dfTest)\n",
    "pred_Lasso"
   ]
  },
  {
   "cell_type": "code",
   "execution_count": 256,
   "metadata": {},
   "outputs": [
    {
     "data": {
      "text/plain": [
       "array([120061.28861706, 162670.84390157, 176933.73562243, ...,\n",
       "       166870.61410663, 115892.44236113, 225283.81263144])"
      ]
     },
     "execution_count": 256,
     "metadata": {},
     "output_type": "execute_result"
    }
   ],
   "source": [
    "# Elastic Net regression\n",
    "pred_ElasticNet = model_ElasticNet.predict(dfTest)\n",
    "pred_ElasticNet"
   ]
  },
  {
   "cell_type": "code",
   "execution_count": 257,
   "metadata": {},
   "outputs": [
    {
     "data": {
      "text/plain": [
       "array([116803.83333333, 158461.76470588, 174500.        , ...,\n",
       "       163100.        , 139211.44186047, 222633.88888889])"
      ]
     },
     "execution_count": 257,
     "metadata": {},
     "output_type": "execute_result"
    }
   ],
   "source": [
    "# 決策樹\n",
    "pred_DTR = model_DTR.predict(dfTest)\n",
    "pred_DTR"
   ]
  },
  {
   "cell_type": "code",
   "execution_count": 258,
   "metadata": {},
   "outputs": [
    {
     "data": {
      "text/plain": [
       "array([126862.86      , 152919.18      , 179084.36      , ...,\n",
       "       160306.13666667, 116476.23333333, 230244.06333333])"
      ]
     },
     "execution_count": 258,
     "metadata": {},
     "output_type": "execute_result"
    }
   ],
   "source": [
    "# 隨機森林\n",
    "#from sklearn.metrics import r2_score\n",
    "pred_RFR = model_RFR.predict(dfTest)\n",
    "pred_RFR"
   ]
  },
  {
   "cell_type": "code",
   "execution_count": 300,
   "metadata": {},
   "outputs": [],
   "source": [
    "dfTest_old = pd.DataFrame(pd.read_csv(\"/share/all/test.csv\"))\n",
    "a = pd.DataFrame(dfTest_old['Id'], columns=['Id'])\n",
    "a['SalePrice'] = pred_xgboost\n",
    "a.to_csv('/home/bigred/jupyterNotebook/kilio/submission.csv', index=0)"
   ]
  },
  {
   "cell_type": "code",
   "execution_count": null,
   "metadata": {},
   "outputs": [],
   "source": [
    "dfTest.head(5)"
   ]
  },
  {
   "cell_type": "code",
   "execution_count": null,
   "metadata": {},
   "outputs": [],
   "source": []
  }
 ],
 "metadata": {
  "kernelspec": {
   "display_name": "Python 3",
   "language": "python",
   "name": "python3"
  },
  "language_info": {
   "codemirror_mode": {
    "name": "ipython",
    "version": 3
   },
   "file_extension": ".py",
   "mimetype": "text/x-python",
   "name": "python",
   "nbconvert_exporter": "python",
   "pygments_lexer": "ipython3",
   "version": "3.7.0"
  }
 },
 "nbformat": 4,
 "nbformat_minor": 2
}
